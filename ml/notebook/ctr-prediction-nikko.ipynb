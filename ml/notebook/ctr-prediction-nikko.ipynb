{
 "cells": [
  {
   "cell_type": "markdown",
   "metadata": {
    "ExecuteTime": {
     "end_time": "2018-09-21T07:00:53.522104Z",
     "start_time": "2018-09-21T07:00:53.519204Z"
    }
   },
   "source": [
    "# Imports"
   ]
  },
  {
   "cell_type": "code",
   "execution_count": 34,
   "metadata": {
    "ExecuteTime": {
     "end_time": "2018-09-21T07:21:19.604971Z",
     "start_time": "2018-09-21T07:21:19.591105Z"
    }
   },
   "outputs": [],
   "source": [
    "import pandas as pd\n",
    "import numpy as np\n",
    "import matplotlib.pyplot as plt\n",
    "import seaborn as sns\n",
    "import os\n",
    "import time\n",
    "import glob\n",
    "from sklearn.preprocessing import OneHotEncoder\n",
    "\n",
    "%matplotlib inline\n",
    "plt.style.use('dark_background')"
   ]
  },
  {
   "cell_type": "code",
   "execution_count": 3,
   "metadata": {
    "ExecuteTime": {
     "end_time": "2018-09-21T07:01:44.013432Z",
     "start_time": "2018-09-21T07:01:44.010872Z"
    }
   },
   "outputs": [],
   "source": [
    "pd.set_option(\"display.max_columns\",None)\n",
    "pd.set_option(\"display.max_rows\",200)"
   ]
  },
  {
   "cell_type": "code",
   "execution_count": 4,
   "metadata": {
    "ExecuteTime": {
     "end_time": "2018-09-21T07:01:45.756810Z",
     "start_time": "2018-09-21T07:01:45.751233Z"
    }
   },
   "outputs": [
    {
     "data": {
      "text/plain": [
       "'/Users/nicoroble/adtech-compe-2018-e/ml/notebook'"
      ]
     },
     "execution_count": 4,
     "metadata": {},
     "output_type": "execute_result"
    }
   ],
   "source": [
    "os.getcwd()"
   ]
  },
  {
   "cell_type": "code",
   "execution_count": 6,
   "metadata": {
    "ExecuteTime": {
     "end_time": "2018-09-21T07:02:01.532865Z",
     "start_time": "2018-09-21T07:02:01.529552Z"
    }
   },
   "outputs": [],
   "source": [
    "file_path = glob.glob(\"../../data/*\")\n",
    "csv_path = glob.glob(\"../../data/*.csv\")"
   ]
  },
  {
   "cell_type": "code",
   "execution_count": 7,
   "metadata": {
    "ExecuteTime": {
     "end_time": "2018-09-21T07:02:03.384534Z",
     "start_time": "2018-09-21T07:02:03.380878Z"
    }
   },
   "outputs": [
    {
     "data": {
      "text/plain": [
       "['../../data/banner_size_master.csv',\n",
       " '../../data/demogra.csv',\n",
       " '../../data/train.csv',\n",
       " '../../data/banner_position_master.csv',\n",
       " '../../data/device_type_master.csv']"
      ]
     },
     "execution_count": 7,
     "metadata": {},
     "output_type": "execute_result"
    }
   ],
   "source": [
    "file_path"
   ]
  },
  {
   "cell_type": "code",
   "execution_count": 8,
   "metadata": {
    "ExecuteTime": {
     "end_time": "2018-09-21T07:02:04.882108Z",
     "start_time": "2018-09-21T07:02:04.878249Z"
    }
   },
   "outputs": [
    {
     "data": {
      "text/plain": [
       "['../../data/banner_size_master.csv',\n",
       " '../../data/demogra.csv',\n",
       " '../../data/train.csv',\n",
       " '../../data/banner_position_master.csv',\n",
       " '../../data/device_type_master.csv']"
      ]
     },
     "execution_count": 8,
     "metadata": {},
     "output_type": "execute_result"
    }
   ],
   "source": [
    "csv_path"
   ]
  },
  {
   "cell_type": "markdown",
   "metadata": {},
   "source": [
    "# read data "
   ]
  },
  {
   "cell_type": "code",
   "execution_count": 46,
   "metadata": {
    "ExecuteTime": {
     "end_time": "2018-09-21T07:35:43.874082Z",
     "start_time": "2018-09-21T07:35:16.776394Z"
    }
   },
   "outputs": [],
   "source": [
    "banner_size_master = pd.read_csv(csv_path[0])\n",
    "demogra = pd.read_csv(csv_path[1])\n",
    "df_train = pd.read_csv(csv_path[2])\n",
    "banner_position_master = pd.read_csv(csv_path[3])\n",
    "device_type_master = pd.read_csv(csv_path[4])"
   ]
  },
  {
   "cell_type": "code",
   "execution_count": 11,
   "metadata": {
    "ExecuteTime": {
     "end_time": "2018-09-21T07:04:00.151356Z",
     "start_time": "2018-09-21T07:04:00.144815Z"
    }
   },
   "outputs": [
    {
     "data": {
      "text/html": [
       "<div>\n",
       "<style scoped>\n",
       "    .dataframe tbody tr th:only-of-type {\n",
       "        vertical-align: middle;\n",
       "    }\n",
       "\n",
       "    .dataframe tbody tr th {\n",
       "        vertical-align: top;\n",
       "    }\n",
       "\n",
       "    .dataframe thead th {\n",
       "        text-align: right;\n",
       "    }\n",
       "</style>\n",
       "<table border=\"1\" class=\"dataframe\">\n",
       "  <thead>\n",
       "    <tr style=\"text-align: right;\">\n",
       "      <th></th>\n",
       "      <th>id</th>\n",
       "      <th>bannerSize</th>\n",
       "    </tr>\n",
       "  </thead>\n",
       "  <tbody>\n",
       "    <tr>\n",
       "      <th>0</th>\n",
       "      <td>1</td>\n",
       "      <td>320×50</td>\n",
       "    </tr>\n",
       "    <tr>\n",
       "      <th>1</th>\n",
       "      <td>2</td>\n",
       "      <td>320×100</td>\n",
       "    </tr>\n",
       "    <tr>\n",
       "      <th>2</th>\n",
       "      <td>3</td>\n",
       "      <td>300×250</td>\n",
       "    </tr>\n",
       "    <tr>\n",
       "      <th>3</th>\n",
       "      <td>4</td>\n",
       "      <td>320×480</td>\n",
       "    </tr>\n",
       "  </tbody>\n",
       "</table>\n",
       "</div>"
      ],
      "text/plain": [
       "   id bannerSize\n",
       "0   1     320×50\n",
       "1   2    320×100\n",
       "2   3    300×250\n",
       "3   4    320×480"
      ]
     },
     "execution_count": 11,
     "metadata": {},
     "output_type": "execute_result"
    }
   ],
   "source": [
    "banner_size_master"
   ]
  },
  {
   "cell_type": "code",
   "execution_count": 12,
   "metadata": {
    "ExecuteTime": {
     "end_time": "2018-09-21T07:04:04.901496Z",
     "start_time": "2018-09-21T07:04:04.889033Z"
    }
   },
   "outputs": [
    {
     "data": {
      "text/html": [
       "<div>\n",
       "<style scoped>\n",
       "    .dataframe tbody tr th:only-of-type {\n",
       "        vertical-align: middle;\n",
       "    }\n",
       "\n",
       "    .dataframe tbody tr th {\n",
       "        vertical-align: top;\n",
       "    }\n",
       "\n",
       "    .dataframe thead th {\n",
       "        text-align: right;\n",
       "    }\n",
       "</style>\n",
       "<table border=\"1\" class=\"dataframe\">\n",
       "  <thead>\n",
       "    <tr style=\"text-align: right;\">\n",
       "      <th></th>\n",
       "      <th>deviceId</th>\n",
       "      <th>age</th>\n",
       "      <th>gender</th>\n",
       "      <th>hasChild</th>\n",
       "      <th>income</th>\n",
       "      <th>isMarried</th>\n",
       "    </tr>\n",
       "  </thead>\n",
       "  <tbody>\n",
       "    <tr>\n",
       "      <th>0</th>\n",
       "      <td>cc6f3c56-f35f-4de5-b6a0-6cf8f5fd44c2</td>\n",
       "      <td>36.0</td>\n",
       "      <td>female</td>\n",
       "      <td>yes</td>\n",
       "      <td>458.0</td>\n",
       "      <td>yes</td>\n",
       "    </tr>\n",
       "    <tr>\n",
       "      <th>1</th>\n",
       "      <td>57525600-3f29-4ff9-b236-ea32fc43d78c</td>\n",
       "      <td>52.0</td>\n",
       "      <td>female</td>\n",
       "      <td>no</td>\n",
       "      <td>678.0</td>\n",
       "      <td>no</td>\n",
       "    </tr>\n",
       "    <tr>\n",
       "      <th>2</th>\n",
       "      <td>18221f19-865b-4923-a5a9-ea13239d3aad</td>\n",
       "      <td>40.0</td>\n",
       "      <td>female</td>\n",
       "      <td>no</td>\n",
       "      <td>NaN</td>\n",
       "      <td>NaN</td>\n",
       "    </tr>\n",
       "    <tr>\n",
       "      <th>3</th>\n",
       "      <td>68a69f8a-a3d6-467a-832a-04f626737a81</td>\n",
       "      <td>42.0</td>\n",
       "      <td>UNKNOWN</td>\n",
       "      <td>NaN</td>\n",
       "      <td>536.0</td>\n",
       "      <td>yes</td>\n",
       "    </tr>\n",
       "    <tr>\n",
       "      <th>4</th>\n",
       "      <td>8b0cde1a-b024-43cf-a218-40b7abab7bde</td>\n",
       "      <td>38.0</td>\n",
       "      <td>female</td>\n",
       "      <td>NaN</td>\n",
       "      <td>NaN</td>\n",
       "      <td>NaN</td>\n",
       "    </tr>\n",
       "  </tbody>\n",
       "</table>\n",
       "</div>"
      ],
      "text/plain": [
       "                               deviceId   age   gender hasChild  income  \\\n",
       "0  cc6f3c56-f35f-4de5-b6a0-6cf8f5fd44c2  36.0   female      yes   458.0   \n",
       "1  57525600-3f29-4ff9-b236-ea32fc43d78c  52.0   female       no   678.0   \n",
       "2  18221f19-865b-4923-a5a9-ea13239d3aad  40.0   female       no     NaN   \n",
       "3  68a69f8a-a3d6-467a-832a-04f626737a81  42.0  UNKNOWN      NaN   536.0   \n",
       "4  8b0cde1a-b024-43cf-a218-40b7abab7bde  38.0   female      NaN     NaN   \n",
       "\n",
       "  isMarried  \n",
       "0       yes  \n",
       "1        no  \n",
       "2       NaN  \n",
       "3       yes  \n",
       "4       NaN  "
      ]
     },
     "execution_count": 12,
     "metadata": {},
     "output_type": "execute_result"
    }
   ],
   "source": [
    "demogra.head()"
   ]
  },
  {
   "cell_type": "code",
   "execution_count": 13,
   "metadata": {
    "ExecuteTime": {
     "end_time": "2018-09-21T07:04:08.396432Z",
     "start_time": "2018-09-21T07:04:08.382938Z"
    }
   },
   "outputs": [
    {
     "data": {
      "text/html": [
       "<div>\n",
       "<style scoped>\n",
       "    .dataframe tbody tr th:only-of-type {\n",
       "        vertical-align: middle;\n",
       "    }\n",
       "\n",
       "    .dataframe tbody tr th {\n",
       "        vertical-align: top;\n",
       "    }\n",
       "\n",
       "    .dataframe thead th {\n",
       "        text-align: right;\n",
       "    }\n",
       "</style>\n",
       "<table border=\"1\" class=\"dataframe\">\n",
       "  <thead>\n",
       "    <tr style=\"text-align: right;\">\n",
       "      <th></th>\n",
       "      <th>deviceId</th>\n",
       "      <th>bannerPosition</th>\n",
       "      <th>bannerSize</th>\n",
       "      <th>deviceType</th>\n",
       "      <th>floorPrice</th>\n",
       "      <th>id</th>\n",
       "      <th>mediaId</th>\n",
       "      <th>osType</th>\n",
       "      <th>timestamp</th>\n",
       "      <th>advId</th>\n",
       "      <th>isClick</th>\n",
       "    </tr>\n",
       "  </thead>\n",
       "  <tbody>\n",
       "    <tr>\n",
       "      <th>0</th>\n",
       "      <td>cc6f3c56-f35f-4de5-b6a0-6cf8f5fd44c2</td>\n",
       "      <td>6</td>\n",
       "      <td>4</td>\n",
       "      <td>1</td>\n",
       "      <td>19392.00</td>\n",
       "      <td>8abefa99-20b6-45ea-8e5b-c74081fb1fb1</td>\n",
       "      <td>608</td>\n",
       "      <td>iOS</td>\n",
       "      <td>1535203765</td>\n",
       "      <td>11</td>\n",
       "      <td>0</td>\n",
       "    </tr>\n",
       "    <tr>\n",
       "      <th>1</th>\n",
       "      <td>57525600-3f29-4ff9-b236-ea32fc43d78c</td>\n",
       "      <td>5</td>\n",
       "      <td>1</td>\n",
       "      <td>1</td>\n",
       "      <td>6758.20</td>\n",
       "      <td>f1e449fd-16c7-48a0-87ce-ce7f6cb1bf58</td>\n",
       "      <td>176</td>\n",
       "      <td>iOS</td>\n",
       "      <td>1535135105</td>\n",
       "      <td>6</td>\n",
       "      <td>1</td>\n",
       "    </tr>\n",
       "    <tr>\n",
       "      <th>2</th>\n",
       "      <td>18221f19-865b-4923-a5a9-ea13239d3aad</td>\n",
       "      <td>5</td>\n",
       "      <td>1</td>\n",
       "      <td>1</td>\n",
       "      <td>8816.15</td>\n",
       "      <td>cbe73705-bb9d-453c-b191-e1e243347beb</td>\n",
       "      <td>281</td>\n",
       "      <td>iOS</td>\n",
       "      <td>1534845969</td>\n",
       "      <td>1</td>\n",
       "      <td>0</td>\n",
       "    </tr>\n",
       "    <tr>\n",
       "      <th>3</th>\n",
       "      <td>68a69f8a-a3d6-467a-832a-04f626737a81</td>\n",
       "      <td>5</td>\n",
       "      <td>3</td>\n",
       "      <td>1</td>\n",
       "      <td>9572.60</td>\n",
       "      <td>e770ef71-54a3-40be-8361-65a6128dac0e</td>\n",
       "      <td>22</td>\n",
       "      <td>ANDROID</td>\n",
       "      <td>1534931092</td>\n",
       "      <td>2</td>\n",
       "      <td>1</td>\n",
       "    </tr>\n",
       "    <tr>\n",
       "      <th>4</th>\n",
       "      <td>8b0cde1a-b024-43cf-a218-40b7abab7bde</td>\n",
       "      <td>1</td>\n",
       "      <td>1</td>\n",
       "      <td>1</td>\n",
       "      <td>9793.30</td>\n",
       "      <td>923f1982-947c-4e81-9d43-b31d20c4579f</td>\n",
       "      <td>869</td>\n",
       "      <td>iOS</td>\n",
       "      <td>1535129929</td>\n",
       "      <td>15</td>\n",
       "      <td>0</td>\n",
       "    </tr>\n",
       "  </tbody>\n",
       "</table>\n",
       "</div>"
      ],
      "text/plain": [
       "                               deviceId  bannerPosition  bannerSize  \\\n",
       "0  cc6f3c56-f35f-4de5-b6a0-6cf8f5fd44c2               6           4   \n",
       "1  57525600-3f29-4ff9-b236-ea32fc43d78c               5           1   \n",
       "2  18221f19-865b-4923-a5a9-ea13239d3aad               5           1   \n",
       "3  68a69f8a-a3d6-467a-832a-04f626737a81               5           3   \n",
       "4  8b0cde1a-b024-43cf-a218-40b7abab7bde               1           1   \n",
       "\n",
       "   deviceType  floorPrice                                    id  mediaId  \\\n",
       "0           1    19392.00  8abefa99-20b6-45ea-8e5b-c74081fb1fb1      608   \n",
       "1           1     6758.20  f1e449fd-16c7-48a0-87ce-ce7f6cb1bf58      176   \n",
       "2           1     8816.15  cbe73705-bb9d-453c-b191-e1e243347beb      281   \n",
       "3           1     9572.60  e770ef71-54a3-40be-8361-65a6128dac0e       22   \n",
       "4           1     9793.30  923f1982-947c-4e81-9d43-b31d20c4579f      869   \n",
       "\n",
       "    osType   timestamp  advId  isClick  \n",
       "0      iOS  1535203765     11        0  \n",
       "1      iOS  1535135105      6        1  \n",
       "2      iOS  1534845969      1        0  \n",
       "3  ANDROID  1534931092      2        1  \n",
       "4      iOS  1535129929     15        0  "
      ]
     },
     "execution_count": 13,
     "metadata": {},
     "output_type": "execute_result"
    }
   ],
   "source": [
    "df_train.head()"
   ]
  },
  {
   "cell_type": "code",
   "execution_count": 14,
   "metadata": {
    "ExecuteTime": {
     "end_time": "2018-09-21T07:04:15.598480Z",
     "start_time": "2018-09-21T07:04:15.591309Z"
    }
   },
   "outputs": [
    {
     "data": {
      "text/html": [
       "<div>\n",
       "<style scoped>\n",
       "    .dataframe tbody tr th:only-of-type {\n",
       "        vertical-align: middle;\n",
       "    }\n",
       "\n",
       "    .dataframe tbody tr th {\n",
       "        vertical-align: top;\n",
       "    }\n",
       "\n",
       "    .dataframe thead th {\n",
       "        text-align: right;\n",
       "    }\n",
       "</style>\n",
       "<table border=\"1\" class=\"dataframe\">\n",
       "  <thead>\n",
       "    <tr style=\"text-align: right;\">\n",
       "      <th></th>\n",
       "      <th>id</th>\n",
       "      <th>bannerPosition</th>\n",
       "    </tr>\n",
       "  </thead>\n",
       "  <tbody>\n",
       "    <tr>\n",
       "      <th>0</th>\n",
       "      <td>1</td>\n",
       "      <td>Above the Fold</td>\n",
       "    </tr>\n",
       "    <tr>\n",
       "      <th>1</th>\n",
       "      <td>2</td>\n",
       "      <td>Below the Fold</td>\n",
       "    </tr>\n",
       "    <tr>\n",
       "      <th>2</th>\n",
       "      <td>3</td>\n",
       "      <td>Header</td>\n",
       "    </tr>\n",
       "    <tr>\n",
       "      <th>3</th>\n",
       "      <td>4</td>\n",
       "      <td>Footer</td>\n",
       "    </tr>\n",
       "    <tr>\n",
       "      <th>4</th>\n",
       "      <td>5</td>\n",
       "      <td>Sidebar</td>\n",
       "    </tr>\n",
       "    <tr>\n",
       "      <th>5</th>\n",
       "      <td>6</td>\n",
       "      <td>Full Screen</td>\n",
       "    </tr>\n",
       "  </tbody>\n",
       "</table>\n",
       "</div>"
      ],
      "text/plain": [
       "   id  bannerPosition\n",
       "0   1  Above the Fold\n",
       "1   2  Below the Fold\n",
       "2   3          Header\n",
       "3   4          Footer\n",
       "4   5         Sidebar\n",
       "5   6     Full Screen"
      ]
     },
     "execution_count": 14,
     "metadata": {},
     "output_type": "execute_result"
    }
   ],
   "source": [
    "banner_position_master"
   ]
  },
  {
   "cell_type": "code",
   "execution_count": 15,
   "metadata": {
    "ExecuteTime": {
     "end_time": "2018-09-21T07:04:19.375391Z",
     "start_time": "2018-09-21T07:04:19.368363Z"
    }
   },
   "outputs": [
    {
     "data": {
      "text/html": [
       "<div>\n",
       "<style scoped>\n",
       "    .dataframe tbody tr th:only-of-type {\n",
       "        vertical-align: middle;\n",
       "    }\n",
       "\n",
       "    .dataframe tbody tr th {\n",
       "        vertical-align: top;\n",
       "    }\n",
       "\n",
       "    .dataframe thead th {\n",
       "        text-align: right;\n",
       "    }\n",
       "</style>\n",
       "<table border=\"1\" class=\"dataframe\">\n",
       "  <thead>\n",
       "    <tr style=\"text-align: right;\">\n",
       "      <th></th>\n",
       "      <th>id</th>\n",
       "      <th>deviceType</th>\n",
       "    </tr>\n",
       "  </thead>\n",
       "  <tbody>\n",
       "    <tr>\n",
       "      <th>0</th>\n",
       "      <td>1</td>\n",
       "      <td>Mobile</td>\n",
       "    </tr>\n",
       "    <tr>\n",
       "      <th>1</th>\n",
       "      <td>2</td>\n",
       "      <td>PC</td>\n",
       "    </tr>\n",
       "    <tr>\n",
       "      <th>2</th>\n",
       "      <td>3</td>\n",
       "      <td>Tablet</td>\n",
       "    </tr>\n",
       "  </tbody>\n",
       "</table>\n",
       "</div>"
      ],
      "text/plain": [
       "   id deviceType\n",
       "0   1     Mobile\n",
       "1   2         PC\n",
       "2   3     Tablet"
      ]
     },
     "execution_count": 15,
     "metadata": {},
     "output_type": "execute_result"
    }
   ],
   "source": [
    "device_type_master"
   ]
  },
  {
   "cell_type": "markdown",
   "metadata": {},
   "source": [
    "# check dtypes etc. "
   ]
  },
  {
   "cell_type": "code",
   "execution_count": 17,
   "metadata": {
    "ExecuteTime": {
     "end_time": "2018-09-21T07:05:18.954135Z",
     "start_time": "2018-09-21T07:05:18.313020Z"
    },
    "scrolled": false
   },
   "outputs": [
    {
     "name": "stdout",
     "output_type": "stream",
     "text": [
      "------- demogra --------\n",
      "\n",
      "data type:\n",
      " deviceId      object\n",
      "age          float64\n",
      "gender        object\n",
      "hasChild      object\n",
      "income       float64\n",
      "isMarried     object\n",
      "dtype: object\n",
      "\n",
      "number of null:\n",
      " deviceId          0\n",
      "age           59935\n",
      "gender            0\n",
      "hasChild     225409\n",
      "income       174807\n",
      "isMarried    124871\n",
      "dtype: int64\n",
      "\n",
      "data length:\n",
      " 500000\n",
      "\n",
      "u_unique:\n",
      " deviceId     500000\n",
      "age              65\n",
      "gender            3\n",
      "hasChild          2\n",
      "income          419\n",
      "isMarried         2\n",
      "dtype: int64\n"
     ]
    }
   ],
   "source": [
    "print(\"------- demogra --------\")\n",
    "print(\"\")  \n",
    "print(\"data type:\\n\",demogra.dtypes)\n",
    "print(\"\")\n",
    "print(\"number of null:\\n\",demogra.isnull().sum())\n",
    "print(\"\")\n",
    "print(\"data length:\\n\",len(demogra))\n",
    "print(\"\")\n",
    "print(\"u_unique:\\n\",demogra.nunique())"
   ]
  },
  {
   "cell_type": "code",
   "execution_count": 18,
   "metadata": {
    "ExecuteTime": {
     "end_time": "2018-09-21T07:05:48.422070Z",
     "start_time": "2018-09-21T07:05:24.934461Z"
    },
    "scrolled": false
   },
   "outputs": [
    {
     "name": "stdout",
     "output_type": "stream",
     "text": [
      "------- df_train --------\n",
      "\n",
      "data type:\n",
      " deviceId           object\n",
      "bannerPosition      int64\n",
      "bannerSize          int64\n",
      "deviceType          int64\n",
      "floorPrice        float64\n",
      "id                 object\n",
      "mediaId             int64\n",
      "osType             object\n",
      "timestamp           int64\n",
      "advId               int64\n",
      "isClick             int64\n",
      "dtype: object\n",
      "\n",
      "number of null:\n",
      " deviceId          0\n",
      "bannerPosition    0\n",
      "bannerSize        0\n",
      "deviceType        0\n",
      "floorPrice        0\n",
      "id                0\n",
      "mediaId           0\n",
      "osType            0\n",
      "timestamp         0\n",
      "advId             0\n",
      "isClick           0\n",
      "dtype: int64\n",
      "\n",
      "data length:\n",
      " 10000000\n",
      "\n",
      "u_unique:\n",
      " deviceId            500000\n",
      "bannerPosition           6\n",
      "bannerSize               4\n",
      "deviceType               1\n",
      "floorPrice          386585\n",
      "id                10000000\n",
      "mediaId               1000\n",
      "osType                   2\n",
      "timestamp           604800\n",
      "advId                   20\n",
      "isClick                  2\n",
      "dtype: int64\n"
     ]
    }
   ],
   "source": [
    "print(\"------- df_train --------\")\n",
    "print(\"\")  \n",
    "print(\"data type:\\n\",df_train.dtypes)\n",
    "print(\"\")\n",
    "print(\"number of null:\\n\",df_train.isnull().sum())\n",
    "print(\"\")\n",
    "print(\"data length:\\n\",len(df_train))\n",
    "print(\"\")\n",
    "print(\"u_unique:\\n\",df_train.nunique())"
   ]
  },
  {
   "cell_type": "code",
   "execution_count": 19,
   "metadata": {
    "ExecuteTime": {
     "end_time": "2018-09-21T07:05:59.106838Z",
     "start_time": "2018-09-21T07:05:53.776195Z"
    }
   },
   "outputs": [
    {
     "data": {
      "text/html": [
       "<div>\n",
       "<style scoped>\n",
       "    .dataframe tbody tr th:only-of-type {\n",
       "        vertical-align: middle;\n",
       "    }\n",
       "\n",
       "    .dataframe tbody tr th {\n",
       "        vertical-align: top;\n",
       "    }\n",
       "\n",
       "    .dataframe thead th {\n",
       "        text-align: right;\n",
       "    }\n",
       "</style>\n",
       "<table border=\"1\" class=\"dataframe\">\n",
       "  <thead>\n",
       "    <tr style=\"text-align: right;\">\n",
       "      <th></th>\n",
       "      <th>count</th>\n",
       "      <th>mean</th>\n",
       "      <th>std</th>\n",
       "      <th>min</th>\n",
       "      <th>25%</th>\n",
       "      <th>50%</th>\n",
       "      <th>75%</th>\n",
       "      <th>max</th>\n",
       "    </tr>\n",
       "  </thead>\n",
       "  <tbody>\n",
       "    <tr>\n",
       "      <th>bannerPosition</th>\n",
       "      <td>10000000.0</td>\n",
       "      <td>3.880406e+00</td>\n",
       "      <td>1.656776</td>\n",
       "      <td>1.000000e+00</td>\n",
       "      <td>3.000000e+00</td>\n",
       "      <td>4.000000e+00</td>\n",
       "      <td>5.000000e+00</td>\n",
       "      <td>6.000000e+00</td>\n",
       "    </tr>\n",
       "    <tr>\n",
       "      <th>bannerSize</th>\n",
       "      <td>10000000.0</td>\n",
       "      <td>2.249909e+00</td>\n",
       "      <td>1.219575</td>\n",
       "      <td>1.000000e+00</td>\n",
       "      <td>1.000000e+00</td>\n",
       "      <td>2.000000e+00</td>\n",
       "      <td>3.000000e+00</td>\n",
       "      <td>4.000000e+00</td>\n",
       "    </tr>\n",
       "    <tr>\n",
       "      <th>deviceType</th>\n",
       "      <td>10000000.0</td>\n",
       "      <td>1.000000e+00</td>\n",
       "      <td>0.000000</td>\n",
       "      <td>1.000000e+00</td>\n",
       "      <td>1.000000e+00</td>\n",
       "      <td>1.000000e+00</td>\n",
       "      <td>1.000000e+00</td>\n",
       "      <td>1.000000e+00</td>\n",
       "    </tr>\n",
       "    <tr>\n",
       "      <th>floorPrice</th>\n",
       "      <td>10000000.0</td>\n",
       "      <td>8.980794e+03</td>\n",
       "      <td>2901.756569</td>\n",
       "      <td>0.000000e+00</td>\n",
       "      <td>7.253950e+03</td>\n",
       "      <td>8.156400e+03</td>\n",
       "      <td>9.525550e+03</td>\n",
       "      <td>3.304275e+04</td>\n",
       "    </tr>\n",
       "    <tr>\n",
       "      <th>mediaId</th>\n",
       "      <td>10000000.0</td>\n",
       "      <td>4.994179e+02</td>\n",
       "      <td>288.674275</td>\n",
       "      <td>0.000000e+00</td>\n",
       "      <td>2.490000e+02</td>\n",
       "      <td>4.990000e+02</td>\n",
       "      <td>7.490000e+02</td>\n",
       "      <td>9.990000e+02</td>\n",
       "    </tr>\n",
       "    <tr>\n",
       "      <th>timestamp</th>\n",
       "      <td>10000000.0</td>\n",
       "      <td>1.535080e+09</td>\n",
       "      <td>174568.228693</td>\n",
       "      <td>1.534777e+09</td>\n",
       "      <td>1.534928e+09</td>\n",
       "      <td>1.535080e+09</td>\n",
       "      <td>1.535231e+09</td>\n",
       "      <td>1.535382e+09</td>\n",
       "    </tr>\n",
       "    <tr>\n",
       "      <th>advId</th>\n",
       "      <td>10000000.0</td>\n",
       "      <td>1.050292e+01</td>\n",
       "      <td>5.765755</td>\n",
       "      <td>1.000000e+00</td>\n",
       "      <td>6.000000e+00</td>\n",
       "      <td>1.100000e+01</td>\n",
       "      <td>1.600000e+01</td>\n",
       "      <td>2.000000e+01</td>\n",
       "    </tr>\n",
       "    <tr>\n",
       "      <th>isClick</th>\n",
       "      <td>10000000.0</td>\n",
       "      <td>2.453404e-01</td>\n",
       "      <td>0.430289</td>\n",
       "      <td>0.000000e+00</td>\n",
       "      <td>0.000000e+00</td>\n",
       "      <td>0.000000e+00</td>\n",
       "      <td>0.000000e+00</td>\n",
       "      <td>1.000000e+00</td>\n",
       "    </tr>\n",
       "  </tbody>\n",
       "</table>\n",
       "</div>"
      ],
      "text/plain": [
       "                     count          mean            std           min  \\\n",
       "bannerPosition  10000000.0  3.880406e+00       1.656776  1.000000e+00   \n",
       "bannerSize      10000000.0  2.249909e+00       1.219575  1.000000e+00   \n",
       "deviceType      10000000.0  1.000000e+00       0.000000  1.000000e+00   \n",
       "floorPrice      10000000.0  8.980794e+03    2901.756569  0.000000e+00   \n",
       "mediaId         10000000.0  4.994179e+02     288.674275  0.000000e+00   \n",
       "timestamp       10000000.0  1.535080e+09  174568.228693  1.534777e+09   \n",
       "advId           10000000.0  1.050292e+01       5.765755  1.000000e+00   \n",
       "isClick         10000000.0  2.453404e-01       0.430289  0.000000e+00   \n",
       "\n",
       "                         25%           50%           75%           max  \n",
       "bannerPosition  3.000000e+00  4.000000e+00  5.000000e+00  6.000000e+00  \n",
       "bannerSize      1.000000e+00  2.000000e+00  3.000000e+00  4.000000e+00  \n",
       "deviceType      1.000000e+00  1.000000e+00  1.000000e+00  1.000000e+00  \n",
       "floorPrice      7.253950e+03  8.156400e+03  9.525550e+03  3.304275e+04  \n",
       "mediaId         2.490000e+02  4.990000e+02  7.490000e+02  9.990000e+02  \n",
       "timestamp       1.534928e+09  1.535080e+09  1.535231e+09  1.535382e+09  \n",
       "advId           6.000000e+00  1.100000e+01  1.600000e+01  2.000000e+01  \n",
       "isClick         0.000000e+00  0.000000e+00  0.000000e+00  1.000000e+00  "
      ]
     },
     "execution_count": 19,
     "metadata": {},
     "output_type": "execute_result"
    }
   ],
   "source": [
    "# 基本統計量\n",
    "df_train.describe().T"
   ]
  },
  {
   "cell_type": "code",
   "execution_count": 20,
   "metadata": {
    "ExecuteTime": {
     "end_time": "2018-09-21T07:06:29.810078Z",
     "start_time": "2018-09-21T07:06:29.711198Z"
    }
   },
   "outputs": [
    {
     "data": {
      "text/html": [
       "<div>\n",
       "<style scoped>\n",
       "    .dataframe tbody tr th:only-of-type {\n",
       "        vertical-align: middle;\n",
       "    }\n",
       "\n",
       "    .dataframe tbody tr th {\n",
       "        vertical-align: top;\n",
       "    }\n",
       "\n",
       "    .dataframe thead th {\n",
       "        text-align: right;\n",
       "    }\n",
       "</style>\n",
       "<table border=\"1\" class=\"dataframe\">\n",
       "  <thead>\n",
       "    <tr style=\"text-align: right;\">\n",
       "      <th></th>\n",
       "      <th>count</th>\n",
       "      <th>mean</th>\n",
       "      <th>std</th>\n",
       "      <th>min</th>\n",
       "      <th>25%</th>\n",
       "      <th>50%</th>\n",
       "      <th>75%</th>\n",
       "      <th>max</th>\n",
       "    </tr>\n",
       "  </thead>\n",
       "  <tbody>\n",
       "    <tr>\n",
       "      <th>age</th>\n",
       "      <td>440065.0</td>\n",
       "      <td>45.500342</td>\n",
       "      <td>9.995720</td>\n",
       "      <td>15.0</td>\n",
       "      <td>39.0</td>\n",
       "      <td>46.0</td>\n",
       "      <td>52.0</td>\n",
       "      <td>79.0</td>\n",
       "    </tr>\n",
       "    <tr>\n",
       "      <th>income</th>\n",
       "      <td>325193.0</td>\n",
       "      <td>537.125630</td>\n",
       "      <td>93.662296</td>\n",
       "      <td>39.0</td>\n",
       "      <td>465.0</td>\n",
       "      <td>537.0</td>\n",
       "      <td>644.0</td>\n",
       "      <td>704.0</td>\n",
       "    </tr>\n",
       "  </tbody>\n",
       "</table>\n",
       "</div>"
      ],
      "text/plain": [
       "           count        mean        std   min    25%    50%    75%    max\n",
       "age     440065.0   45.500342   9.995720  15.0   39.0   46.0   52.0   79.0\n",
       "income  325193.0  537.125630  93.662296  39.0  465.0  537.0  644.0  704.0"
      ]
     },
     "execution_count": 20,
     "metadata": {},
     "output_type": "execute_result"
    }
   ],
   "source": [
    "# 基本統計量\n",
    "demogra.describe().T"
   ]
  },
  {
   "cell_type": "code",
   "execution_count": 23,
   "metadata": {},
   "outputs": [
    {
     "data": {
      "text/plain": [
       "<matplotlib.axes._subplots.AxesSubplot at 0x1a0d6f2160>"
      ]
     },
     "execution_count": 23,
     "metadata": {},
     "output_type": "execute_result"
    },
    {
     "data": {
      "image/png": "[encoded data removed]",
      "text/plain": [
       "<Figure size 432x288 with 1 Axes>"
      ]
     },
     "metadata": {},
     "output_type": "display_data"
    }
   ],
   "source": [
    "plt.style.use('dark_background')\n",
    "demogra[\"income\"].hist(bins=20)"
   ]
  },
  {
   "cell_type": "code",
   "execution_count": 29,
   "metadata": {
    "ExecuteTime": {
     "end_time": "2018-09-21T07:15:09.878589Z",
     "start_time": "2018-09-21T07:15:09.618052Z"
    }
   },
   "outputs": [
    {
     "data": {
      "text/plain": [
       "<matplotlib.axes._subplots.AxesSubplot at 0x115afe9b0>"
      ]
     },
     "execution_count": 29,
     "metadata": {},
     "output_type": "execute_result"
    },
    {
     "data": {
      "image/png": "[encoded data removed]",
      "text/plain": [
       "<Figure size 432x288 with 1 Axes>"
      ]
     },
     "metadata": {
      "needs_background": "dark"
     },
     "output_type": "display_data"
    }
   ],
   "source": [
    "sns.distplot(demogra['income'].dropna(), kde=True, bins=10)"
   ]
  },
  {
   "cell_type": "code",
   "execution_count": 23,
   "metadata": {
    "ExecuteTime": {
     "end_time": "2018-09-21T07:10:30.503689Z",
     "start_time": "2018-09-21T07:10:30.465748Z"
    }
   },
   "outputs": [
    {
     "name": "stdout",
     "output_type": "stream",
     "text": [
      "                                    deviceId  age   gender hasChild  income  \\\n",
      "8       ce3ceeec-6aa5-4785-9013-88e5ced6df1c  NaN     male       no     NaN   \n",
      "12      b95cbd52-a9c6-489e-a7e6-102212058bb6  NaN   female      NaN   467.0   \n",
      "35      95f3f1c5-3f36-4cfb-91db-fa0e8e88efe3  NaN     male      NaN   537.0   \n",
      "38      83d5d019-f845-4990-98f7-fb68fedc7bfa  NaN   female      yes   469.0   \n",
      "71      89eefd2e-5daf-48bc-8712-fd99cb0b0c2f  NaN   female       no   338.0   \n",
      "101     0f66429f-dfaa-48ef-bb98-9b738f9f9946  NaN   female      yes   650.0   \n",
      "105     c587c2a3-8846-42a4-ab7a-5b9c208b5388  NaN   female       no     NaN   \n",
      "115     9f5ff9a5-fa16-455d-a6d6-d7174f0f57e4  NaN  UNKNOWN       no     NaN   \n",
      "119     085207e7-1796-46f5-bfb8-9bb69178c80a  NaN   female       no   537.0   \n",
      "124     e30abc79-cb50-42e1-9e38-ca44a2b6188e  NaN   female      yes     NaN   \n",
      "125     da9d8299-137d-4948-b09b-b6157c687cdf  NaN  UNKNOWN      NaN   666.0   \n",
      "138     b20c90c6-9b0b-4847-b471-6bd649a19659  NaN   female       no   668.0   \n",
      "139     02dd5829-ff57-4d25-8a05-0035428c07bd  NaN   female      NaN   556.0   \n",
      "143     110d11e9-e3f7-46f2-a7da-0afbd9b9e1e2  NaN  UNKNOWN       no   553.0   \n",
      "148     bcc7bd1e-5401-4c43-8d0d-ac81d5b40038  NaN  UNKNOWN      NaN     NaN   \n",
      "161     3285bfdc-461b-4705-a629-907e32bf4a6a  NaN   female      NaN     NaN   \n",
      "176     7ca73752-e9d6-49ec-a4c4-9871e2d7b611  NaN     male       no   447.0   \n",
      "177     07ec1e5e-1b4e-45d9-8f9d-fc988807ebee  NaN   female       no   335.0   \n",
      "187     ed2101a7-856a-4a09-9baf-18a270e6f7b8  NaN     male       no     NaN   \n",
      "189     5c8a0de4-5ff3-4755-b15c-1f99d0992cf0  NaN   female      NaN     NaN   \n",
      "191     4f16e50e-ccd7-4fbc-bbd3-99f3ce7ecdd6  NaN     male       no     NaN   \n",
      "194     17dc4f1c-fe31-495e-8003-6a20acf02905  NaN     male       no   433.0   \n",
      "196     fc725825-a882-445d-b5c3-3a22ce588cd1  NaN   female      NaN     NaN   \n",
      "197     3b1e763f-a0f3-4a98-982b-743415d2a325  NaN  UNKNOWN      yes   550.0   \n",
      "237     f0e87d14-ee5a-413d-bb23-3f31cdb37378  NaN   female      NaN   658.0   \n",
      "242     8a814100-f994-4a03-bebb-c8ad5e49bd20  NaN     male      yes   643.0   \n",
      "252     73d542b6-8e1a-4b39-88f2-20a337a3afc7  NaN   female      NaN     NaN   \n",
      "277     a8f51ac2-adba-44c6-a0f8-cb86bbda71ad  NaN   female      NaN   653.0   \n",
      "282     71683c0b-f240-47a2-bd31-e6bbe2299eae  NaN     male       no   463.0   \n",
      "288     1dfe9e2a-0105-4dcd-ba46-e668b1438c77  NaN   female      NaN     NaN   \n",
      "293     a9ed8402-b4b8-4d1e-8422-7716c3e71a0b  NaN   female      NaN     NaN   \n",
      "306     f6ff7293-2f85-4f6b-aca1-e4e38370f908  NaN     male      NaN   682.0   \n",
      "320     c74bc2b8-d7ac-4b32-abc1-7de8225a68ef  NaN   female      NaN     NaN   \n",
      "331     b129ee06-41be-46fa-90bf-ae6a715bb855  NaN     male       no   638.0   \n",
      "340     262428c1-95f9-456d-bfb3-0cfc23c11bd1  NaN   female       no   543.0   \n",
      "347     8700ed26-1a73-4b94-9cc6-8c59fbccea1a  NaN   female       no   685.0   \n",
      "378     bb49cb1c-0eee-42cd-a5d2-27558ce1b311  NaN   female      NaN   530.0   \n",
      "383     3854edb3-52eb-472c-9a41-5afb4b52ad1b  NaN   female       no     NaN   \n",
      "389     a031f6dc-9e2d-484c-b2e5-fb097633602a  NaN     male       no     NaN   \n",
      "393     f0ff8650-e41b-4a21-b7f7-2a1b80a1ea1a  NaN   female      yes   467.0   \n",
      "396     c3431ee0-2d19-4d68-b45b-f0225fb09087  NaN  UNKNOWN       no     NaN   \n",
      "398     55cc7976-fc2c-4362-9e61-72e7c3ba16c2  NaN     male       no   534.0   \n",
      "401     8ee8639c-4e6c-4738-b544-dfc796ca7d06  NaN     male      NaN   529.0   \n",
      "403     ac1d5fa9-598f-496b-a576-9b211dcaff0b  NaN     male       no   537.0   \n",
      "417     8e9e64d7-f63b-4971-95db-841ee227fbef  NaN  UNKNOWN      NaN   663.0   \n",
      "418     56810f06-5c1c-4945-a1ad-b16e872ac8fc  NaN     male      NaN     NaN   \n",
      "422     e9527c58-6b73-4871-b43c-be144cc28d6e  NaN   female       no     NaN   \n",
      "437     2c267db4-ca75-4ef4-9578-8be2d1f145f7  NaN     male       no   639.0   \n",
      "442     6f7d9af8-13c6-4ff1-9113-439de3146b1c  NaN     male      yes   517.0   \n",
      "448     e44b9f06-0715-44fa-a1f1-5001faa2a831  NaN   female      NaN   637.0   \n",
      "449     8cbaa4d1-4bc5-4016-b548-7f05d9913db7  NaN   female       no   662.0   \n",
      "458     db6a209e-509a-4840-a099-a4202025fcb0  NaN   female       no   528.0   \n",
      "460     cf04f18e-a4b1-4df2-b514-2e283aa3ec25  NaN     male      yes   552.0   \n",
      "471     02403827-4ed3-4c09-b649-7e48fddaa576  NaN     male      NaN   353.0   \n",
      "488     a9c8e52a-8b82-46c2-8343-119607659cb5  NaN   female       no   462.0   \n",
      "489     d72310b0-d89b-4ed0-a22f-cd831a973224  NaN     male      yes   663.0   \n",
      "493     fc92c860-7679-4e1b-aa20-1dbddf0306fc  NaN   female      yes   461.0   \n",
      "497     85a9313c-2c08-43c2-a4fd-0272a5672c60  NaN   female      NaN   544.0   \n",
      "502     9d9708aa-c2f1-4481-8af0-b29d9d516c47  NaN   female      NaN   544.0   \n",
      "507     036d1dc9-ca22-4198-aa58-6ddd49834fa4  NaN   female      NaN     NaN   \n",
      "522     fa0b10ec-5611-4c1f-8831-feae5a5d1fb9  NaN  UNKNOWN      NaN     NaN   \n",
      "525     e52a47a5-bef8-4505-9cb2-dd0db5bccbb6  NaN   female      NaN     NaN   \n",
      "527     d5204831-d3c3-40ad-9963-96bb8178c25d  NaN   female      NaN   534.0   \n",
      "530     a3cc9de1-5c09-4f4a-b786-37bf69f9428e  NaN   female      NaN   450.0   \n",
      "531     12eb8c8e-c9f9-4159-bcaf-cb82f14980ec  NaN   female      NaN   650.0   \n",
      "535     86abe955-89b0-48b3-bd59-ac76169dc453  NaN  UNKNOWN      yes     NaN   \n",
      "539     5dccec99-0b59-4682-93d6-8158b0b917c3  NaN     male      yes     NaN   \n",
      "547     fb6fd663-249c-4261-a958-a35f098e586c  NaN   female      NaN     NaN   \n",
      "550     5fbcf30d-f4ca-45ed-ad4a-ee643068790d  NaN     male      yes   449.0   \n",
      "564     d8335911-c45d-46ac-a310-0757b7e8f576  NaN   female      NaN   500.0   \n",
      "570     2c09c2fc-ea71-4ba4-ab9c-4947ef54aae9  NaN     male      NaN   346.0   \n",
      "576     4ed1f389-4787-41e4-b2ad-83d7b22d068e  NaN   female      NaN   547.0   \n",
      "596     a75261b5-3163-4545-a5ef-0ea2bfa1ff2e  NaN     male       no   537.0   \n",
      "608     e110d3b0-f41b-4d93-8d9b-f1565ed90333  NaN   female      NaN   450.0   \n",
      "616     4eee3f21-492d-4b4c-978f-36c5ce620d97  NaN   female      NaN   650.0   \n",
      "618     d3916e8e-2658-4fdd-b12b-00c9fed80514  NaN   female       no   544.0   \n",
      "642     f7d69d49-723b-4307-bea4-5f91f8dacd17  NaN   female      yes     NaN   \n",
      "649     6096710d-be0b-4b18-b0da-9f2254f8a8a6  NaN   female      NaN   547.0   \n",
      "650     a55fdd27-d6d9-48a2-bc07-e39ae4b08a99  NaN     male       no     NaN   \n",
      "653     53a62492-82aa-49ee-b769-beaae7fb5e01  NaN   female       no   546.0   \n",
      "675     322d6524-e89c-4214-8818-72a932e22ac8  NaN   female      NaN   452.0   \n",
      "678     94f33fa2-790a-4234-bafc-b8d9d965a730  NaN  UNKNOWN      NaN   658.0   \n",
      "682     f749615b-8adc-461d-ac57-3077ae9d408b  NaN     male       no     NaN   \n",
      "701     38a42e2d-82c3-47fd-a698-b1d1db148ec1  NaN   female      NaN   344.0   \n",
      "715     f873e1aa-4d24-455a-9df7-23c394d586c9  NaN   female      yes   522.0   \n",
      "735     cf85926f-0ead-42dc-9aec-6cc8bdbe8448  NaN  UNKNOWN      yes   538.0   \n",
      "750     c1bf4469-2a41-45d5-b5a9-5702de17a9ed  NaN   female      yes   451.0   \n",
      "761     d4deb3cc-d4d8-4db8-b1cb-7792c80be4a6  NaN     male       no   665.0   \n",
      "763     b5447976-316a-4229-ba7a-2e6cb84bf26f  NaN     male      NaN   497.0   \n",
      "769     966396aa-e00a-41a2-8a0a-6c781423612f  NaN   female      NaN   533.0   \n",
      "772     77720b47-8fef-40a2-aeb8-297c27e01c30  NaN  UNKNOWN      NaN   658.0   \n",
      "777     3880543a-0797-4ec9-b155-f92909480880  NaN     male      yes   457.0   \n",
      "781     f4b3b166-7b33-4a77-bafd-873afb6bf593  NaN     male      yes   461.0   \n",
      "793     cb523419-3046-4640-a05f-aa4342e627f7  NaN  UNKNOWN      NaN   546.0   \n",
      "799     a08f6b76-4a2a-43f2-a037-35884b747268  NaN     male      yes   659.0   \n",
      "814     b533c0a4-1773-4297-90bd-c3e1b972edf7  NaN   female      NaN     NaN   \n",
      "816     a713048e-f251-4907-bbc7-b51668194752  NaN   female      yes   550.0   \n",
      "828     e5cf7aba-9bf7-4b5b-bd7e-37f91b2af471  NaN   female       no   536.0   \n",
      "835     0a2ba25a-e6c0-44e4-9f07-a9952bf90f00  NaN     male      NaN   447.0   \n",
      "844     7ab12d63-4ba4-4821-8df4-bd95ae4f4546  NaN     male      yes     NaN   \n",
      "...                                      ...  ...      ...      ...     ...   \n",
      "499046  a4a4ec64-40b3-4ad0-acb7-1ba4f7c3d803  NaN     male       no   470.0   \n",
      "499049  256079d4-de53-4c23-8752-15a00667729b  NaN   female       no     NaN   \n",
      "499075  d31abd4d-41dc-49c4-80c4-593db80e3aef  NaN   female       no     NaN   \n",
      "499081  fa27e67a-5656-4449-b844-255b66d0bdbb  NaN   female      NaN   654.0   \n",
      "499088  54b9e7b6-b94f-483d-a727-7a920aab4bfb  NaN   female      yes   648.0   \n",
      "499098  37cd30da-5910-482b-8248-bcb2ad18e654  NaN     male      yes   663.0   \n",
      "499099  0686913b-7cff-4f7f-82a0-57737fe56a6d  NaN  UNKNOWN      yes     NaN   \n",
      "499109  c0ef67e8-8eae-4612-91ee-2ac64671b394  NaN   female      yes   443.0   \n",
      "499132  16e52964-9d74-4f56-b8c1-0eb7bb0b2ed8  NaN   female      NaN     NaN   \n",
      "499136  825ce527-dffe-49c1-88a5-ef09e68df99f  NaN     male      NaN   652.0   \n",
      "499148  5731626e-2b63-421c-92a4-0d6dcc0c87eb  NaN   female      NaN   529.0   \n",
      "499155  165c79c6-7a72-42ad-a1da-24eabdf9d995  NaN  UNKNOWN       no     NaN   \n",
      "499157  57bb0403-9ba1-4bb3-b7bc-d20aae7074e2  NaN  UNKNOWN      NaN     NaN   \n",
      "499170  778d945f-1c59-4978-98c3-449c76e9aef6  NaN   female      yes   450.0   \n",
      "499171  db8fbacd-cb00-4e73-90a6-2ca137271b10  NaN   female      NaN     NaN   \n",
      "499177  b731063a-86e6-417d-966d-6dc42178bda6  NaN   female      NaN   536.0   \n",
      "499178  93f7d8d5-ed14-4012-bdb7-cd8f42c882f3  NaN   female      yes   661.0   \n",
      "499188  045a948c-19a3-41ed-b48c-f7fa2f0b808f  NaN   female      yes   525.0   \n",
      "499205  d91f32b7-62fe-4c88-9cab-428cc4b2b28e  NaN   female      NaN   490.0   \n",
      "499208  6a2f5937-ae5e-4390-824b-ebaa72bf5ce9  NaN   female       no   534.0   \n",
      "499219  69c11873-871e-4112-a97d-ab44b00052f6  NaN  UNKNOWN      NaN     NaN   \n",
      "499268  2baeb820-8e01-45bb-8387-42a5abb29754  NaN   female       no     NaN   \n",
      "499273  1fb8748a-31ba-479f-95b4-562bc2bcbdec  NaN   female       no     NaN   \n",
      "499278  f72be413-7bef-4220-8866-c6aab296cfc5  NaN   female      NaN     NaN   \n",
      "499293  1885cef0-f587-44a4-ae56-6122e27f5bc2  NaN     male       no     NaN   \n",
      "499295  305a3b03-ea7a-45d1-bb7d-b5376ff4c981  NaN   female       no   341.0   \n",
      "499313  c653d2a7-7aaf-4a75-9941-1174ab775d9f  NaN   female      yes   536.0   \n",
      "499324  ffe928cd-d4f3-4a27-b8dd-ceb2d2d34ca6  NaN  UNKNOWN       no   339.0   \n",
      "499330  f210f3cf-6ff3-4071-bb74-086954ad4cd0  NaN   female      yes   546.0   \n",
      "499335  de11fabd-739e-4204-bd46-cac299aa0b15  NaN     male      NaN   443.0   \n",
      "499345  132637f2-528c-41a3-919c-2fca8585bccf  NaN     male      NaN   653.0   \n",
      "499353  52d7c201-f1ad-4fad-b575-c47af401c41b  NaN     male       no   558.0   \n",
      "499362  576c8541-99b9-432a-9304-c9ad05360c01  NaN     male      NaN   655.0   \n",
      "499374  171a0abd-1371-4e3f-84ba-dfb1d2bdadd3  NaN   female      yes   536.0   \n",
      "499385  e2175dd8-649b-455c-b48c-9ffe00b78ffa  NaN   female      NaN     NaN   \n",
      "499387  6fb49d19-aa52-46a9-9dcf-3e017175a2bc  NaN     male      NaN   539.0   \n",
      "499398  0b1ed18b-9a41-4358-9cfb-fbfa6d975d2c  NaN   female      yes     NaN   \n",
      "499419  625c7f4c-96b1-4b7d-ba69-d03a3d48fec8  NaN     male      yes   565.0   \n",
      "499433  89973d23-d22f-4070-aafa-7251537a79b8  NaN  UNKNOWN       no   446.0   \n",
      "499437  dba39592-eef9-4342-89b1-4edf9f39fc2d  NaN     male       no     NaN   \n",
      "499455  ffa29216-6989-4875-862c-b5aa0d155797  NaN  UNKNOWN      NaN   541.0   \n",
      "499459  e445c2ff-77c8-4957-b3c0-aa9143c21514  NaN   female      NaN   668.0   \n",
      "499460  16341306-9a0a-4ca8-aff0-c20d6190f26c  NaN   female       no     NaN   \n",
      "499463  37d58d81-44ba-43ab-9ccb-6c608ea412d4  NaN     male      NaN   666.0   \n",
      "499470  db1471f1-aec5-4f09-99ab-437c77ff08a2  NaN     male      NaN   664.0   \n",
      "499471  67309b16-6899-4eec-85fb-82e2a1d0f036  NaN   female      yes   461.0   \n",
      "499483  ec9b4d8f-9bf1-4f04-a1ad-15f096dfc4ad  NaN     male       no   484.0   \n",
      "499492  c651c0f4-b60a-4597-a3b8-548676c6dd4c  NaN   female      NaN   545.0   \n",
      "499503  98dd5308-c3e7-42f5-8565-2fe3a0bff21e  NaN   female       no   675.0   \n",
      "499505  27baa45e-edc4-429d-a8d4-e31528da753d  NaN   female      NaN     NaN   \n",
      "499521  090e4b73-eed1-4ae1-ad26-344f1b538e9c  NaN     male      NaN     NaN   \n",
      "499523  ea30e8b0-e896-4122-9ff4-9c6be6043949  NaN   female      NaN   536.0   \n",
      "499541  1269724b-1d86-4a09-bc7b-45edb7296a47  NaN   female      NaN   545.0   \n",
      "499555  0df9f149-2857-4a4a-809a-53821fa01ba9  NaN     male      yes     NaN   \n",
      "499600  af2d1418-a737-477b-bbab-6cc24fa2ed43  NaN  UNKNOWN       no   442.0   \n",
      "499601  b5119c65-51f6-4eab-9474-7665e827d61d  NaN   female      yes   553.0   \n",
      "499602  e2e0d669-2993-4f69-85ad-ca6c81b146f4  NaN   female      NaN     NaN   \n",
      "499608  8752c4b0-cf0c-462e-a126-df5c11b17bbf  NaN     male       no   540.0   \n",
      "499615  112a7405-fa0a-4d5a-81df-49e49c19da5b  NaN   female      NaN   554.0   \n",
      "499625  70b4c0f3-801e-4b3f-8924-550f137e36cd  NaN   female      NaN   528.0   \n",
      "499626  39fd404b-c009-411b-a74c-fb33f06adb6a  NaN     male      NaN   673.0   \n",
      "499635  5c678d95-1cc5-4574-b226-73b59ebd3c4c  NaN   female       no   457.0   \n",
      "499648  4865f2ed-49ed-403d-a50e-1422b76022f2  NaN  UNKNOWN       no   658.0   \n",
      "499655  097e092d-adba-4d82-97ab-7ad5cc37b450  NaN   female       no     NaN   \n",
      "499682  f7634d77-a83b-455e-93ed-37f13447c88e  NaN   female      yes     NaN   \n",
      "499685  35ff128c-d41b-4874-b89c-bac159d18374  NaN     male       no   529.0   \n",
      "499691  810b7a79-d301-4b2a-b796-0908e1719828  NaN   female      yes   674.0   \n",
      "499692  ba957e9d-81b3-40ef-b698-a769e98c751c  NaN     male       no   548.0   \n",
      "499700  03e95cf5-65c0-441b-9ef7-95ca304c44e3  NaN   female      NaN   528.0   \n",
      "499713  8e78bf32-e0f6-428e-a47d-c816c27f8485  NaN   female       no   654.0   \n",
      "499722  cf9877ab-c730-4800-a246-f19589e12727  NaN  UNKNOWN       no     NaN   \n",
      "499729  19a4da85-1028-4dcf-bfdf-23ee286219f8  NaN     male       no   525.0   \n",
      "499732  0305164a-214b-4dd7-a5e0-5b6753944a42  NaN     male      NaN     NaN   \n",
      "499767  4ff2ed87-5d4b-42b9-ae28-e952404b29c2  NaN   female      NaN   473.0   \n",
      "499783  ef827dbf-cb46-4cce-bf27-ef86fa7071f8  NaN     male      yes   539.0   \n",
      "499786  aafe4127-a809-4f6e-add8-251c6c23ab78  NaN     male      NaN     NaN   \n",
      "499788  a12ef381-971b-4f29-a81f-67a668dfcef7  NaN   female       no   525.0   \n",
      "499798  e4b037c6-62dc-40cd-b8fe-4cd48f04d329  NaN   female      NaN   468.0   \n",
      "499802  f461afb8-5946-45af-9d92-bba283a4f29f  NaN     male       no   532.0   \n",
      "499804  7e557d41-09c8-4d80-8dea-0de86ec2b131  NaN   female      NaN   548.0   \n",
      "499808  4a15a3e2-1fca-4e80-bd82-511cbaec8f8b  NaN   female       no   661.0   \n",
      "499829  91cdf51e-b00c-46b4-903a-12c1514e4e8f  NaN     male      NaN     NaN   \n",
      "499851  29abe97c-85e0-4b09-9b86-6c571f6fa996  NaN   female       no   540.0   \n",
      "499855  da42a136-f6cf-42bf-a243-00c6acda892e  NaN  UNKNOWN      NaN   542.0   \n",
      "499861  7f362dae-6938-4097-81bc-5ce9450d2812  NaN     male       no     NaN   \n",
      "499871  9790ecaa-bd1f-4c82-9d81-74a75a9b85f4  NaN     male      yes   669.0   \n",
      "499875  2d212f9a-d8cd-44ab-8a34-308296fbf8e8  NaN     male      NaN   531.0   \n",
      "499881  0bed25ef-df70-4b18-9150-fb0bc9405956  NaN     male      NaN   655.0   \n",
      "499884  a60c2353-658a-4c4d-8f40-e38f5957452a  NaN     male      NaN   661.0   \n",
      "499900  d45b7814-67c1-42cb-b56c-a0734ccb548f  NaN     male      NaN     NaN   \n",
      "499908  3c02fad8-fd53-4857-b388-4e7ef9302862  NaN     male      NaN   684.0   \n",
      "499926  278eaf4c-9d9a-47da-b046-443e2d432e0e  NaN   female      NaN   660.0   \n",
      "499928  19642ef2-109d-4b76-aebe-9e08df7554d5  NaN  UNKNOWN      NaN   336.0   \n",
      "499933  bf807bc6-ec94-4b5a-b51b-126b49e487c7  NaN   female       no     NaN   \n",
      "499939  0f410625-e342-4c5d-84ad-b32552eba98f  NaN   female      NaN     NaN   \n",
      "499944  04b26e82-c502-477a-85d2-fea274b9b889  NaN   female       no   457.0   \n",
      "499951  4c221fb7-c021-4092-b0e3-0d7e01c6d9f0  NaN     male      NaN   526.0   \n",
      "499972  ec7734e3-2037-43f6-8ad0-60d11c57a238  NaN   female      yes   539.0   \n",
      "499983  59f1a4a6-339b-461e-b77d-8a85dbac6c07  NaN   female      yes     NaN   \n",
      "499991  a8ff8ef1-5572-4ae5-ba06-ea72eb6396ce  NaN   female      NaN   536.0   \n",
      "\n",
      "       isMarried  \n",
      "8            yes  \n",
      "12           NaN  \n",
      "35            no  \n",
      "38           yes  \n",
      "71           yes  \n",
      "101           no  \n",
      "105          yes  \n",
      "115          NaN  \n",
      "119           no  \n",
      "124          yes  \n",
      "125          NaN  \n",
      "138          yes  \n",
      "139          yes  \n",
      "143          yes  \n",
      "148          NaN  \n",
      "161           no  \n",
      "176           no  \n",
      "177           no  \n",
      "187           no  \n",
      "189           no  \n",
      "191           no  \n",
      "194          yes  \n",
      "196           no  \n",
      "197           no  \n",
      "237           no  \n",
      "242          yes  \n",
      "252           no  \n",
      "277          yes  \n",
      "282          yes  \n",
      "288          yes  \n",
      "293          yes  \n",
      "306          yes  \n",
      "320          yes  \n",
      "331          yes  \n",
      "340          NaN  \n",
      "347           no  \n",
      "378          yes  \n",
      "383           no  \n",
      "389          yes  \n",
      "393           no  \n",
      "396          NaN  \n",
      "398           no  \n",
      "401          NaN  \n",
      "403           no  \n",
      "417          NaN  \n",
      "418          NaN  \n",
      "422          yes  \n",
      "437          NaN  \n",
      "442           no  \n",
      "448           no  \n",
      "449          yes  \n",
      "458          yes  \n",
      "460          NaN  \n",
      "471          yes  \n",
      "488          yes  \n",
      "489           no  \n",
      "493          NaN  \n",
      "497          NaN  \n",
      "502          yes  \n",
      "507           no  \n",
      "522          yes  \n",
      "525           no  \n",
      "527          yes  \n",
      "530          yes  \n",
      "531          NaN  \n",
      "535          NaN  \n",
      "539           no  \n",
      "547          yes  \n",
      "550          NaN  \n",
      "564          NaN  \n",
      "570          yes  \n",
      "576          yes  \n",
      "596           no  \n",
      "608          yes  \n",
      "616          yes  \n",
      "618          yes  \n",
      "642          NaN  \n",
      "649          NaN  \n",
      "650          NaN  \n",
      "653          yes  \n",
      "675           no  \n",
      "678          NaN  \n",
      "682          NaN  \n",
      "701          yes  \n",
      "715           no  \n",
      "735          yes  \n",
      "750          yes  \n",
      "761          yes  \n",
      "763          yes  \n",
      "769           no  \n",
      "772           no  \n",
      "777          yes  \n",
      "781           no  \n",
      "793           no  \n",
      "799          yes  \n",
      "814          yes  \n",
      "816          yes  \n",
      "828          yes  \n",
      "835          yes  \n",
      "844          NaN  \n",
      "...          ...  \n",
      "499046       yes  \n",
      "499049       yes  \n",
      "499075       yes  \n",
      "499081       NaN  \n",
      "499088       yes  \n",
      "499098       yes  \n",
      "499099       yes  \n",
      "499109       yes  \n",
      "499132       yes  \n",
      "499136        no  \n",
      "499148        no  \n",
      "499155       yes  \n",
      "499157       NaN  \n",
      "499170       yes  \n",
      "499171        no  \n",
      "499177       yes  \n",
      "499178        no  \n",
      "499188       yes  \n",
      "499205       NaN  \n",
      "499208       yes  \n",
      "499219       yes  \n",
      "499268        no  \n",
      "499273       yes  \n",
      "499278       NaN  \n",
      "499293       yes  \n",
      "499295       yes  \n",
      "499313       yes  \n",
      "499324        no  \n",
      "499330        no  \n",
      "499335       yes  \n",
      "499345       yes  \n",
      "499353        no  \n",
      "499362       NaN  \n",
      "499374       yes  \n",
      "499385       yes  \n",
      "499387       NaN  \n",
      "499398        no  \n",
      "499419        no  \n",
      "499433       NaN  \n",
      "499437        no  \n",
      "499455        no  \n",
      "499459       NaN  \n",
      "499460        no  \n",
      "499463       yes  \n",
      "499470       yes  \n",
      "499471       yes  \n",
      "499483       yes  \n",
      "499492       NaN  \n",
      "499503       yes  \n",
      "499505       yes  \n",
      "499521       yes  \n",
      "499523        no  \n",
      "499541       NaN  \n",
      "499555       yes  \n",
      "499600       yes  \n",
      "499601        no  \n",
      "499602       NaN  \n",
      "499608       yes  \n",
      "499615       yes  \n",
      "499625       yes  \n",
      "499626       yes  \n",
      "499635       NaN  \n",
      "499648       NaN  \n",
      "499655        no  \n",
      "499682       yes  \n",
      "499685       yes  \n",
      "499691       NaN  \n",
      "499692       yes  \n",
      "499700       NaN  \n",
      "499713       NaN  \n",
      "499722       yes  \n",
      "499729       yes  \n",
      "499732       yes  \n",
      "499767       NaN  \n",
      "499783        no  \n",
      "499786       NaN  \n",
      "499788       yes  \n",
      "499798        no  \n",
      "499802       yes  \n",
      "499804        no  \n",
      "499808       yes  \n",
      "499829       NaN  \n",
      "499851       yes  \n",
      "499855       yes  \n",
      "499861       NaN  \n",
      "499871       yes  \n",
      "499875        no  \n",
      "499881       yes  \n",
      "499884       NaN  \n",
      "499900       yes  \n",
      "499908        no  \n",
      "499926       yes  \n",
      "499928       yes  \n",
      "499933       yes  \n",
      "499939       yes  \n",
      "499944       yes  \n",
      "499951       yes  \n",
      "499972       NaN  \n",
      "499983       NaN  \n",
      "499991       yes  \n",
      "\n",
      "[59935 rows x 6 columns]\n"
     ]
    }
   ],
   "source": [
    "print(demogra[demogra['age'].isnull()])"
   ]
  },
  {
   "cell_type": "markdown",
   "metadata": {},
   "source": [
    "# target "
   ]
  },
  {
   "cell_type": "code",
   "execution_count": 15,
   "metadata": {},
   "outputs": [
    {
     "data": {
      "text/plain": [
       "(array([7546596.,       0.,       0.,       0.,       0.,       0.,\n",
       "              0.,       0.,       0., 2453404.]),\n",
       " array([0. , 0.1, 0.2, 0.3, 0.4, 0.5, 0.6, 0.7, 0.8, 0.9, 1. ]),\n",
       " <a list of 10 Patch objects>)"
      ]
     },
     "execution_count": 15,
     "metadata": {},
     "output_type": "execute_result"
    },
    {
     "data": {
      "image/png": "[encoded data removed]",
      "text/plain": [
       "<Figure size 432x288 with 1 Axes>"
      ]
     },
     "metadata": {},
     "output_type": "display_data"
    }
   ],
   "source": [
    "plt.hist(df_train[\"isClick\"])"
   ]
  },
  {
   "cell_type": "markdown",
   "metadata": {},
   "source": [
    "# preprocess "
   ]
  },
  {
   "cell_type": "markdown",
   "metadata": {},
   "source": [
    "## df_train"
   ]
  },
  {
   "cell_type": "markdown",
   "metadata": {},
   "source": [
    "・ToDo:\n",
    "\n",
    "①\"bannerPosition\"を広告が目立つ順にone-hot-encoding。\n",
    "\n",
    "②\"deviceType\"をone-hot-encoding。\n",
    "\n",
    "③\"mediaId\"を（少ないカテゴリをothersにまとめて）one-hot-encodingやcount-encodingなどに変換。\n",
    "\n",
    "④\"osType\"をone-hot-encoding。\n",
    "\n",
    "⑤\"timestamp\"を時間帯で区分して（午前・午後・深夜等）one-hot-encoding?\n",
    "\n",
    "⑥\"advId\"をone-hot-encoding。"
   ]
  },
  {
   "cell_type": "code",
   "execution_count": null,
   "metadata": {},
   "outputs": [],
   "source": []
  },
  {
   "cell_type": "code",
   "execution_count": null,
   "metadata": {},
   "outputs": [],
   "source": []
  },
  {
   "cell_type": "code",
   "execution_count": null,
   "metadata": {},
   "outputs": [],
   "source": []
  },
  {
   "cell_type": "markdown",
   "metadata": {},
   "source": [
    "## demogra"
   ]
  },
  {
   "cell_type": "markdown",
   "metadata": {},
   "source": [
    "・ToDo:\n",
    "\n",
    "①\"age\"を平均値補完。\n",
    "\n",
    "②\"gender\"をone-hot-encoding。\n",
    "\n",
    "③\"hasChild\"をone-hot-encoding。\n",
    "\n",
    "④\"income\"を平均値補完。\n",
    "\n",
    "⑤\"isMarried\"をone-hot-encoding。"
   ]
  },
  {
   "cell_type": "code",
   "execution_count": 47,
   "metadata": {
    "ExecuteTime": {
     "end_time": "2018-09-21T07:36:21.120649Z",
     "start_time": "2018-09-21T07:36:21.088441Z"
    }
   },
   "outputs": [
    {
     "data": {
      "text/html": [
       "<div>\n",
       "<style scoped>\n",
       "    .dataframe tbody tr th:only-of-type {\n",
       "        vertical-align: middle;\n",
       "    }\n",
       "\n",
       "    .dataframe tbody tr th {\n",
       "        vertical-align: top;\n",
       "    }\n",
       "\n",
       "    .dataframe thead th {\n",
       "        text-align: right;\n",
       "    }\n",
       "</style>\n",
       "<table border=\"1\" class=\"dataframe\">\n",
       "  <thead>\n",
       "    <tr style=\"text-align: right;\">\n",
       "      <th></th>\n",
       "      <th>deviceId</th>\n",
       "      <th>age</th>\n",
       "      <th>gender</th>\n",
       "      <th>hasChild</th>\n",
       "      <th>income</th>\n",
       "      <th>isMarried</th>\n",
       "    </tr>\n",
       "  </thead>\n",
       "  <tbody>\n",
       "    <tr>\n",
       "      <th>0</th>\n",
       "      <td>cc6f3c56-f35f-4de5-b6a0-6cf8f5fd44c2</td>\n",
       "      <td>36.0</td>\n",
       "      <td>female</td>\n",
       "      <td>yes</td>\n",
       "      <td>458.0</td>\n",
       "      <td>yes</td>\n",
       "    </tr>\n",
       "    <tr>\n",
       "      <th>1</th>\n",
       "      <td>57525600-3f29-4ff9-b236-ea32fc43d78c</td>\n",
       "      <td>52.0</td>\n",
       "      <td>female</td>\n",
       "      <td>no</td>\n",
       "      <td>678.0</td>\n",
       "      <td>no</td>\n",
       "    </tr>\n",
       "    <tr>\n",
       "      <th>2</th>\n",
       "      <td>18221f19-865b-4923-a5a9-ea13239d3aad</td>\n",
       "      <td>40.0</td>\n",
       "      <td>female</td>\n",
       "      <td>no</td>\n",
       "      <td>NaN</td>\n",
       "      <td>NaN</td>\n",
       "    </tr>\n",
       "    <tr>\n",
       "      <th>3</th>\n",
       "      <td>68a69f8a-a3d6-467a-832a-04f626737a81</td>\n",
       "      <td>42.0</td>\n",
       "      <td>UNKNOWN</td>\n",
       "      <td>NaN</td>\n",
       "      <td>536.0</td>\n",
       "      <td>yes</td>\n",
       "    </tr>\n",
       "    <tr>\n",
       "      <th>4</th>\n",
       "      <td>8b0cde1a-b024-43cf-a218-40b7abab7bde</td>\n",
       "      <td>38.0</td>\n",
       "      <td>female</td>\n",
       "      <td>NaN</td>\n",
       "      <td>NaN</td>\n",
       "      <td>NaN</td>\n",
       "    </tr>\n",
       "  </tbody>\n",
       "</table>\n",
       "</div>"
      ],
      "text/plain": [
       "                               deviceId   age   gender hasChild  income  \\\n",
       "0  cc6f3c56-f35f-4de5-b6a0-6cf8f5fd44c2  36.0   female      yes   458.0   \n",
       "1  57525600-3f29-4ff9-b236-ea32fc43d78c  52.0   female       no   678.0   \n",
       "2  18221f19-865b-4923-a5a9-ea13239d3aad  40.0   female       no     NaN   \n",
       "3  68a69f8a-a3d6-467a-832a-04f626737a81  42.0  UNKNOWN      NaN   536.0   \n",
       "4  8b0cde1a-b024-43cf-a218-40b7abab7bde  38.0   female      NaN     NaN   \n",
       "\n",
       "  isMarried  \n",
       "0       yes  \n",
       "1        no  \n",
       "2       NaN  \n",
       "3       yes  \n",
       "4       NaN  "
      ]
     },
     "execution_count": 47,
     "metadata": {},
     "output_type": "execute_result"
    }
   ],
   "source": [
    "demogra.head()"
   ]
  },
  {
   "cell_type": "code",
   "execution_count": 48,
   "metadata": {
    "ExecuteTime": {
     "end_time": "2018-09-21T07:36:23.385494Z",
     "start_time": "2018-09-21T07:36:23.315569Z"
    }
   },
   "outputs": [],
   "source": [
    "gender_dummies = pd.get_dummies(demogra[\"gender\"])"
   ]
  },
  {
   "cell_type": "code",
   "execution_count": 49,
   "metadata": {
    "ExecuteTime": {
     "end_time": "2018-09-21T07:36:24.950458Z",
     "start_time": "2018-09-21T07:36:24.923640Z"
    }
   },
   "outputs": [],
   "source": [
    "gender_dummies.drop(['UNKNOWN'], axis=1, inplace=True)"
   ]
  },
  {
   "cell_type": "code",
   "execution_count": 50,
   "metadata": {
    "ExecuteTime": {
     "end_time": "2018-09-21T07:36:26.378765Z",
     "start_time": "2018-09-21T07:36:26.372047Z"
    }
   },
   "outputs": [
    {
     "data": {
      "text/html": [
       "<div>\n",
       "<style scoped>\n",
       "    .dataframe tbody tr th:only-of-type {\n",
       "        vertical-align: middle;\n",
       "    }\n",
       "\n",
       "    .dataframe tbody tr th {\n",
       "        vertical-align: top;\n",
       "    }\n",
       "\n",
       "    .dataframe thead th {\n",
       "        text-align: right;\n",
       "    }\n",
       "</style>\n",
       "<table border=\"1\" class=\"dataframe\">\n",
       "  <thead>\n",
       "    <tr style=\"text-align: right;\">\n",
       "      <th></th>\n",
       "      <th>female</th>\n",
       "      <th>male</th>\n",
       "    </tr>\n",
       "  </thead>\n",
       "  <tbody>\n",
       "    <tr>\n",
       "      <th>0</th>\n",
       "      <td>1</td>\n",
       "      <td>0</td>\n",
       "    </tr>\n",
       "    <tr>\n",
       "      <th>1</th>\n",
       "      <td>1</td>\n",
       "      <td>0</td>\n",
       "    </tr>\n",
       "    <tr>\n",
       "      <th>2</th>\n",
       "      <td>1</td>\n",
       "      <td>0</td>\n",
       "    </tr>\n",
       "    <tr>\n",
       "      <th>3</th>\n",
       "      <td>0</td>\n",
       "      <td>0</td>\n",
       "    </tr>\n",
       "    <tr>\n",
       "      <th>4</th>\n",
       "      <td>1</td>\n",
       "      <td>0</td>\n",
       "    </tr>\n",
       "  </tbody>\n",
       "</table>\n",
       "</div>"
      ],
      "text/plain": [
       "   female  male\n",
       "0       1     0\n",
       "1       1     0\n",
       "2       1     0\n",
       "3       0     0\n",
       "4       1     0"
      ]
     },
     "execution_count": 50,
     "metadata": {},
     "output_type": "execute_result"
    }
   ],
   "source": [
    "gender_dummies.head()"
   ]
  },
  {
   "cell_type": "code",
   "execution_count": 51,
   "metadata": {
    "ExecuteTime": {
     "end_time": "2018-09-21T07:36:29.852254Z",
     "start_time": "2018-09-21T07:36:29.801637Z"
    }
   },
   "outputs": [],
   "source": [
    "demogra.drop(['gender'], axis=1, inplace=True)"
   ]
  },
  {
   "cell_type": "code",
   "execution_count": 61,
   "metadata": {
    "ExecuteTime": {
     "end_time": "2018-09-21T07:40:58.520528Z",
     "start_time": "2018-09-21T07:40:58.488690Z"
    }
   },
   "outputs": [],
   "source": [
    "demogra = demogra.join(gender_dummies)"
   ]
  },
  {
   "cell_type": "code",
   "execution_count": 62,
   "metadata": {
    "ExecuteTime": {
     "end_time": "2018-09-21T07:41:02.472729Z",
     "start_time": "2018-09-21T07:41:02.461481Z"
    }
   },
   "outputs": [
    {
     "data": {
      "text/html": [
       "<div>\n",
       "<style scoped>\n",
       "    .dataframe tbody tr th:only-of-type {\n",
       "        vertical-align: middle;\n",
       "    }\n",
       "\n",
       "    .dataframe tbody tr th {\n",
       "        vertical-align: top;\n",
       "    }\n",
       "\n",
       "    .dataframe thead th {\n",
       "        text-align: right;\n",
       "    }\n",
       "</style>\n",
       "<table border=\"1\" class=\"dataframe\">\n",
       "  <thead>\n",
       "    <tr style=\"text-align: right;\">\n",
       "      <th></th>\n",
       "      <th>deviceId</th>\n",
       "      <th>age</th>\n",
       "      <th>hasChild</th>\n",
       "      <th>income</th>\n",
       "      <th>isMarried</th>\n",
       "      <th>female</th>\n",
       "      <th>male</th>\n",
       "    </tr>\n",
       "  </thead>\n",
       "  <tbody>\n",
       "    <tr>\n",
       "      <th>0</th>\n",
       "      <td>cc6f3c56-f35f-4de5-b6a0-6cf8f5fd44c2</td>\n",
       "      <td>36.0</td>\n",
       "      <td>yes</td>\n",
       "      <td>458.0</td>\n",
       "      <td>yes</td>\n",
       "      <td>1</td>\n",
       "      <td>0</td>\n",
       "    </tr>\n",
       "    <tr>\n",
       "      <th>1</th>\n",
       "      <td>57525600-3f29-4ff9-b236-ea32fc43d78c</td>\n",
       "      <td>52.0</td>\n",
       "      <td>no</td>\n",
       "      <td>678.0</td>\n",
       "      <td>no</td>\n",
       "      <td>1</td>\n",
       "      <td>0</td>\n",
       "    </tr>\n",
       "    <tr>\n",
       "      <th>2</th>\n",
       "      <td>18221f19-865b-4923-a5a9-ea13239d3aad</td>\n",
       "      <td>40.0</td>\n",
       "      <td>no</td>\n",
       "      <td>NaN</td>\n",
       "      <td>NaN</td>\n",
       "      <td>1</td>\n",
       "      <td>0</td>\n",
       "    </tr>\n",
       "    <tr>\n",
       "      <th>3</th>\n",
       "      <td>68a69f8a-a3d6-467a-832a-04f626737a81</td>\n",
       "      <td>42.0</td>\n",
       "      <td>NaN</td>\n",
       "      <td>536.0</td>\n",
       "      <td>yes</td>\n",
       "      <td>0</td>\n",
       "      <td>0</td>\n",
       "    </tr>\n",
       "    <tr>\n",
       "      <th>4</th>\n",
       "      <td>8b0cde1a-b024-43cf-a218-40b7abab7bde</td>\n",
       "      <td>38.0</td>\n",
       "      <td>NaN</td>\n",
       "      <td>NaN</td>\n",
       "      <td>NaN</td>\n",
       "      <td>1</td>\n",
       "      <td>0</td>\n",
       "    </tr>\n",
       "  </tbody>\n",
       "</table>\n",
       "</div>"
      ],
      "text/plain": [
       "                               deviceId   age hasChild  income isMarried  \\\n",
       "0  cc6f3c56-f35f-4de5-b6a0-6cf8f5fd44c2  36.0      yes   458.0       yes   \n",
       "1  57525600-3f29-4ff9-b236-ea32fc43d78c  52.0       no   678.0        no   \n",
       "2  18221f19-865b-4923-a5a9-ea13239d3aad  40.0       no     NaN       NaN   \n",
       "3  68a69f8a-a3d6-467a-832a-04f626737a81  42.0      NaN   536.0       yes   \n",
       "4  8b0cde1a-b024-43cf-a218-40b7abab7bde  38.0      NaN     NaN       NaN   \n",
       "\n",
       "   female  male  \n",
       "0       1     0  \n",
       "1       1     0  \n",
       "2       1     0  \n",
       "3       0     0  \n",
       "4       1     0  "
      ]
     },
     "execution_count": 62,
     "metadata": {},
     "output_type": "execute_result"
    }
   ],
   "source": [
    "demogra.head()"
   ]
  },
  {
   "cell_type": "code",
   "execution_count": 66,
   "metadata": {
    "ExecuteTime": {
     "end_time": "2018-09-21T07:45:20.064387Z",
     "start_time": "2018-09-21T07:45:20.024955Z"
    }
   },
   "outputs": [],
   "source": [
    "demogra['isMarried'] = demogra['isMarried'].fillna('UKNOWN')"
   ]
  },
  {
   "cell_type": "code",
   "execution_count": 67,
   "metadata": {
    "ExecuteTime": {
     "end_time": "2018-09-21T07:45:24.183305Z",
     "start_time": "2018-09-21T07:45:24.143235Z"
    }
   },
   "outputs": [],
   "source": [
    "is_married_dummies = pd.get_dummies(demogra['isMarried'])"
   ]
  },
  {
   "cell_type": "code",
   "execution_count": 74,
   "metadata": {
    "ExecuteTime": {
     "end_time": "2018-09-21T07:46:50.266893Z",
     "start_time": "2018-09-21T07:46:50.259332Z"
    }
   },
   "outputs": [],
   "source": [
    "is_married_dummies.drop(['UKNOWN'], axis=1, inplace=True)"
   ]
  },
  {
   "cell_type": "code",
   "execution_count": 76,
   "metadata": {
    "ExecuteTime": {
     "end_time": "2018-09-21T07:46:58.754030Z",
     "start_time": "2018-09-21T07:46:58.747439Z"
    }
   },
   "outputs": [
    {
     "data": {
      "text/html": [
       "<div>\n",
       "<style scoped>\n",
       "    .dataframe tbody tr th:only-of-type {\n",
       "        vertical-align: middle;\n",
       "    }\n",
       "\n",
       "    .dataframe tbody tr th {\n",
       "        vertical-align: top;\n",
       "    }\n",
       "\n",
       "    .dataframe thead th {\n",
       "        text-align: right;\n",
       "    }\n",
       "</style>\n",
       "<table border=\"1\" class=\"dataframe\">\n",
       "  <thead>\n",
       "    <tr style=\"text-align: right;\">\n",
       "      <th></th>\n",
       "      <th>no</th>\n",
       "      <th>yes</th>\n",
       "    </tr>\n",
       "  </thead>\n",
       "  <tbody>\n",
       "    <tr>\n",
       "      <th>0</th>\n",
       "      <td>0</td>\n",
       "      <td>1</td>\n",
       "    </tr>\n",
       "    <tr>\n",
       "      <th>1</th>\n",
       "      <td>1</td>\n",
       "      <td>0</td>\n",
       "    </tr>\n",
       "    <tr>\n",
       "      <th>2</th>\n",
       "      <td>0</td>\n",
       "      <td>0</td>\n",
       "    </tr>\n",
       "    <tr>\n",
       "      <th>3</th>\n",
       "      <td>0</td>\n",
       "      <td>1</td>\n",
       "    </tr>\n",
       "    <tr>\n",
       "      <th>4</th>\n",
       "      <td>0</td>\n",
       "      <td>0</td>\n",
       "    </tr>\n",
       "  </tbody>\n",
       "</table>\n",
       "</div>"
      ],
      "text/plain": [
       "   no  yes\n",
       "0   0    1\n",
       "1   1    0\n",
       "2   0    0\n",
       "3   0    1\n",
       "4   0    0"
      ]
     },
     "execution_count": 76,
     "metadata": {},
     "output_type": "execute_result"
    }
   ],
   "source": [
    "is_married_dummies.head()"
   ]
  },
  {
   "cell_type": "code",
   "execution_count": 78,
   "metadata": {
    "ExecuteTime": {
     "end_time": "2018-09-21T07:49:04.067644Z",
     "start_time": "2018-09-21T07:49:04.064685Z"
    }
   },
   "outputs": [],
   "source": [
    "is_married_dummies.columns = ['not_married', 'married']"
   ]
  },
  {
   "cell_type": "code",
   "execution_count": 79,
   "metadata": {
    "ExecuteTime": {
     "end_time": "2018-09-21T07:49:12.032003Z",
     "start_time": "2018-09-21T07:49:12.026007Z"
    }
   },
   "outputs": [
    {
     "data": {
      "text/html": [
       "<div>\n",
       "<style scoped>\n",
       "    .dataframe tbody tr th:only-of-type {\n",
       "        vertical-align: middle;\n",
       "    }\n",
       "\n",
       "    .dataframe tbody tr th {\n",
       "        vertical-align: top;\n",
       "    }\n",
       "\n",
       "    .dataframe thead th {\n",
       "        text-align: right;\n",
       "    }\n",
       "</style>\n",
       "<table border=\"1\" class=\"dataframe\">\n",
       "  <thead>\n",
       "    <tr style=\"text-align: right;\">\n",
       "      <th></th>\n",
       "      <th>not_married</th>\n",
       "      <th>married</th>\n",
       "    </tr>\n",
       "  </thead>\n",
       "  <tbody>\n",
       "    <tr>\n",
       "      <th>0</th>\n",
       "      <td>0</td>\n",
       "      <td>1</td>\n",
       "    </tr>\n",
       "    <tr>\n",
       "      <th>1</th>\n",
       "      <td>1</td>\n",
       "      <td>0</td>\n",
       "    </tr>\n",
       "    <tr>\n",
       "      <th>2</th>\n",
       "      <td>0</td>\n",
       "      <td>0</td>\n",
       "    </tr>\n",
       "    <tr>\n",
       "      <th>3</th>\n",
       "      <td>0</td>\n",
       "      <td>1</td>\n",
       "    </tr>\n",
       "    <tr>\n",
       "      <th>4</th>\n",
       "      <td>0</td>\n",
       "      <td>0</td>\n",
       "    </tr>\n",
       "  </tbody>\n",
       "</table>\n",
       "</div>"
      ],
      "text/plain": [
       "   not_married  married\n",
       "0            0        1\n",
       "1            1        0\n",
       "2            0        0\n",
       "3            0        1\n",
       "4            0        0"
      ]
     },
     "execution_count": 79,
     "metadata": {},
     "output_type": "execute_result"
    }
   ],
   "source": [
    "is_married_dummies.head()"
   ]
  },
  {
   "cell_type": "code",
   "execution_count": 81,
   "metadata": {
    "ExecuteTime": {
     "end_time": "2018-09-21T07:50:41.661105Z",
     "start_time": "2018-09-21T07:50:41.583471Z"
    }
   },
   "outputs": [],
   "source": [
    "demogra.drop(['isMarried'], axis=1, inplace=True)"
   ]
  },
  {
   "cell_type": "code",
   "execution_count": 83,
   "metadata": {
    "ExecuteTime": {
     "end_time": "2018-09-21T07:51:09.874600Z",
     "start_time": "2018-09-21T07:51:09.851607Z"
    }
   },
   "outputs": [],
   "source": [
    "demogra = demogra.join(is_married_dummies)"
   ]
  },
  {
   "cell_type": "code",
   "execution_count": 84,
   "metadata": {
    "ExecuteTime": {
     "end_time": "2018-09-21T07:51:14.118223Z",
     "start_time": "2018-09-21T07:51:14.100643Z"
    }
   },
   "outputs": [
    {
     "data": {
      "text/html": [
       "<div>\n",
       "<style scoped>\n",
       "    .dataframe tbody tr th:only-of-type {\n",
       "        vertical-align: middle;\n",
       "    }\n",
       "\n",
       "    .dataframe tbody tr th {\n",
       "        vertical-align: top;\n",
       "    }\n",
       "\n",
       "    .dataframe thead th {\n",
       "        text-align: right;\n",
       "    }\n",
       "</style>\n",
       "<table border=\"1\" class=\"dataframe\">\n",
       "  <thead>\n",
       "    <tr style=\"text-align: right;\">\n",
       "      <th></th>\n",
       "      <th>deviceId</th>\n",
       "      <th>age</th>\n",
       "      <th>hasChild</th>\n",
       "      <th>income</th>\n",
       "      <th>female</th>\n",
       "      <th>male</th>\n",
       "      <th>not_married</th>\n",
       "      <th>married</th>\n",
       "    </tr>\n",
       "  </thead>\n",
       "  <tbody>\n",
       "    <tr>\n",
       "      <th>0</th>\n",
       "      <td>cc6f3c56-f35f-4de5-b6a0-6cf8f5fd44c2</td>\n",
       "      <td>36.0</td>\n",
       "      <td>yes</td>\n",
       "      <td>458.0</td>\n",
       "      <td>1</td>\n",
       "      <td>0</td>\n",
       "      <td>0</td>\n",
       "      <td>1</td>\n",
       "    </tr>\n",
       "    <tr>\n",
       "      <th>1</th>\n",
       "      <td>57525600-3f29-4ff9-b236-ea32fc43d78c</td>\n",
       "      <td>52.0</td>\n",
       "      <td>no</td>\n",
       "      <td>678.0</td>\n",
       "      <td>1</td>\n",
       "      <td>0</td>\n",
       "      <td>1</td>\n",
       "      <td>0</td>\n",
       "    </tr>\n",
       "    <tr>\n",
       "      <th>2</th>\n",
       "      <td>18221f19-865b-4923-a5a9-ea13239d3aad</td>\n",
       "      <td>40.0</td>\n",
       "      <td>no</td>\n",
       "      <td>NaN</td>\n",
       "      <td>1</td>\n",
       "      <td>0</td>\n",
       "      <td>0</td>\n",
       "      <td>0</td>\n",
       "    </tr>\n",
       "    <tr>\n",
       "      <th>3</th>\n",
       "      <td>68a69f8a-a3d6-467a-832a-04f626737a81</td>\n",
       "      <td>42.0</td>\n",
       "      <td>NaN</td>\n",
       "      <td>536.0</td>\n",
       "      <td>0</td>\n",
       "      <td>0</td>\n",
       "      <td>0</td>\n",
       "      <td>1</td>\n",
       "    </tr>\n",
       "    <tr>\n",
       "      <th>4</th>\n",
       "      <td>8b0cde1a-b024-43cf-a218-40b7abab7bde</td>\n",
       "      <td>38.0</td>\n",
       "      <td>NaN</td>\n",
       "      <td>NaN</td>\n",
       "      <td>1</td>\n",
       "      <td>0</td>\n",
       "      <td>0</td>\n",
       "      <td>0</td>\n",
       "    </tr>\n",
       "  </tbody>\n",
       "</table>\n",
       "</div>"
      ],
      "text/plain": [
       "                               deviceId   age hasChild  income  female  male  \\\n",
       "0  cc6f3c56-f35f-4de5-b6a0-6cf8f5fd44c2  36.0      yes   458.0       1     0   \n",
       "1  57525600-3f29-4ff9-b236-ea32fc43d78c  52.0       no   678.0       1     0   \n",
       "2  18221f19-865b-4923-a5a9-ea13239d3aad  40.0       no     NaN       1     0   \n",
       "3  68a69f8a-a3d6-467a-832a-04f626737a81  42.0      NaN   536.0       0     0   \n",
       "4  8b0cde1a-b024-43cf-a218-40b7abab7bde  38.0      NaN     NaN       1     0   \n",
       "\n",
       "   not_married  married  \n",
       "0            0        1  \n",
       "1            1        0  \n",
       "2            0        0  \n",
       "3            0        1  \n",
       "4            0        0  "
      ]
     },
     "execution_count": 84,
     "metadata": {},
     "output_type": "execute_result"
    }
   ],
   "source": [
    "demogra.head()"
   ]
  },
  {
   "cell_type": "code",
   "execution_count": 87,
   "metadata": {
    "ExecuteTime": {
     "end_time": "2018-09-21T07:53:11.869964Z",
     "start_time": "2018-09-21T07:53:11.841740Z"
    }
   },
   "outputs": [],
   "source": [
    "demogra['hasChild'].fillna('NAN', inplace=True)"
   ]
  },
  {
   "cell_type": "code",
   "execution_count": 88,
   "metadata": {
    "ExecuteTime": {
     "end_time": "2018-09-21T07:53:53.620494Z",
     "start_time": "2018-09-21T07:53:53.591624Z"
    }
   },
   "outputs": [],
   "source": [
    "has_child_dummies = pd.get_dummies(demogra['hasChild'])"
   ]
  },
  {
   "cell_type": "code",
   "execution_count": 90,
   "metadata": {
    "ExecuteTime": {
     "end_time": "2018-09-21T07:57:00.700930Z",
     "start_time": "2018-09-21T07:57:00.142801Z"
    }
   },
   "outputs": [
    {
     "data": {
      "text/plain": [
       "<matplotlib.axes._subplots.AxesSubplot at 0x1196a29e8>"
      ]
     },
     "execution_count": 90,
     "metadata": {},
     "output_type": "execute_result"
    },
    {
     "data": {
      "image/png": "[encoded data removed]",
      "text/plain": [
       "<Figure size 432x288 with 1 Axes>"
      ]
     },
     "metadata": {},
     "output_type": "display_data"
    }
   ],
   "source": [
    "sns.countplot(demogra['hasChild'])"
   ]
  },
  {
   "cell_type": "code",
   "execution_count": 89,
   "metadata": {
    "ExecuteTime": {
     "end_time": "2018-09-21T07:54:00.245530Z",
     "start_time": "2018-09-21T07:54:00.238325Z"
    }
   },
   "outputs": [
    {
     "data": {
      "text/html": [
       "<div>\n",
       "<style scoped>\n",
       "    .dataframe tbody tr th:only-of-type {\n",
       "        vertical-align: middle;\n",
       "    }\n",
       "\n",
       "    .dataframe tbody tr th {\n",
       "        vertical-align: top;\n",
       "    }\n",
       "\n",
       "    .dataframe thead th {\n",
       "        text-align: right;\n",
       "    }\n",
       "</style>\n",
       "<table border=\"1\" class=\"dataframe\">\n",
       "  <thead>\n",
       "    <tr style=\"text-align: right;\">\n",
       "      <th></th>\n",
       "      <th>NAN</th>\n",
       "      <th>no</th>\n",
       "      <th>yes</th>\n",
       "    </tr>\n",
       "  </thead>\n",
       "  <tbody>\n",
       "    <tr>\n",
       "      <th>0</th>\n",
       "      <td>0</td>\n",
       "      <td>0</td>\n",
       "      <td>1</td>\n",
       "    </tr>\n",
       "    <tr>\n",
       "      <th>1</th>\n",
       "      <td>0</td>\n",
       "      <td>1</td>\n",
       "      <td>0</td>\n",
       "    </tr>\n",
       "    <tr>\n",
       "      <th>2</th>\n",
       "      <td>0</td>\n",
       "      <td>1</td>\n",
       "      <td>0</td>\n",
       "    </tr>\n",
       "    <tr>\n",
       "      <th>3</th>\n",
       "      <td>1</td>\n",
       "      <td>0</td>\n",
       "      <td>0</td>\n",
       "    </tr>\n",
       "    <tr>\n",
       "      <th>4</th>\n",
       "      <td>1</td>\n",
       "      <td>0</td>\n",
       "      <td>0</td>\n",
       "    </tr>\n",
       "  </tbody>\n",
       "</table>\n",
       "</div>"
      ],
      "text/plain": [
       "   NAN  no  yes\n",
       "0    0   0    1\n",
       "1    0   1    0\n",
       "2    0   1    0\n",
       "3    1   0    0\n",
       "4    1   0    0"
      ]
     },
     "execution_count": 89,
     "metadata": {},
     "output_type": "execute_result"
    }
   ],
   "source": [
    "has_child_dummies.head()"
   ]
  },
  {
   "cell_type": "code",
   "execution_count": 92,
   "metadata": {
    "ExecuteTime": {
     "end_time": "2018-09-21T08:00:18.200622Z",
     "start_time": "2018-09-21T08:00:18.194145Z"
    }
   },
   "outputs": [],
   "source": [
    "has_child_dummies.drop(['NAN'], axis=1, inplace=True)"
   ]
  },
  {
   "cell_type": "code",
   "execution_count": 93,
   "metadata": {
    "ExecuteTime": {
     "end_time": "2018-09-21T08:00:24.355600Z",
     "start_time": "2018-09-21T08:00:24.348819Z"
    }
   },
   "outputs": [
    {
     "data": {
      "text/html": [
       "<div>\n",
       "<style scoped>\n",
       "    .dataframe tbody tr th:only-of-type {\n",
       "        vertical-align: middle;\n",
       "    }\n",
       "\n",
       "    .dataframe tbody tr th {\n",
       "        vertical-align: top;\n",
       "    }\n",
       "\n",
       "    .dataframe thead th {\n",
       "        text-align: right;\n",
       "    }\n",
       "</style>\n",
       "<table border=\"1\" class=\"dataframe\">\n",
       "  <thead>\n",
       "    <tr style=\"text-align: right;\">\n",
       "      <th></th>\n",
       "      <th>no</th>\n",
       "      <th>yes</th>\n",
       "    </tr>\n",
       "  </thead>\n",
       "  <tbody>\n",
       "    <tr>\n",
       "      <th>0</th>\n",
       "      <td>0</td>\n",
       "      <td>1</td>\n",
       "    </tr>\n",
       "    <tr>\n",
       "      <th>1</th>\n",
       "      <td>1</td>\n",
       "      <td>0</td>\n",
       "    </tr>\n",
       "    <tr>\n",
       "      <th>2</th>\n",
       "      <td>1</td>\n",
       "      <td>0</td>\n",
       "    </tr>\n",
       "    <tr>\n",
       "      <th>3</th>\n",
       "      <td>0</td>\n",
       "      <td>0</td>\n",
       "    </tr>\n",
       "    <tr>\n",
       "      <th>4</th>\n",
       "      <td>0</td>\n",
       "      <td>0</td>\n",
       "    </tr>\n",
       "  </tbody>\n",
       "</table>\n",
       "</div>"
      ],
      "text/plain": [
       "   no  yes\n",
       "0   0    1\n",
       "1   1    0\n",
       "2   1    0\n",
       "3   0    0\n",
       "4   0    0"
      ]
     },
     "execution_count": 93,
     "metadata": {},
     "output_type": "execute_result"
    }
   ],
   "source": [
    "has_child_dummies.head()"
   ]
  },
  {
   "cell_type": "code",
   "execution_count": 95,
   "metadata": {
    "ExecuteTime": {
     "end_time": "2018-09-21T08:00:46.974015Z",
     "start_time": "2018-09-21T08:00:46.948772Z"
    }
   },
   "outputs": [],
   "source": [
    "demogra.drop(['hasChild'], axis=1, inplace=True)"
   ]
  },
  {
   "cell_type": "code",
   "execution_count": 96,
   "metadata": {
    "ExecuteTime": {
     "end_time": "2018-09-21T08:04:08.167815Z",
     "start_time": "2018-09-21T08:04:08.152069Z"
    }
   },
   "outputs": [],
   "source": [
    "demogra = demogra.join(has_child_dummies)"
   ]
  },
  {
   "cell_type": "code",
   "execution_count": 99,
   "metadata": {
    "ExecuteTime": {
     "end_time": "2018-09-21T08:07:33.618530Z",
     "start_time": "2018-09-21T08:07:33.611089Z"
    }
   },
   "outputs": [],
   "source": [
    "demogra['income'].fillna(demogra['income'].mean(), inplace=True)"
   ]
  },
  {
   "cell_type": "code",
   "execution_count": 100,
   "metadata": {
    "ExecuteTime": {
     "end_time": "2018-09-21T08:08:12.627964Z",
     "start_time": "2018-09-21T08:08:12.621743Z"
    }
   },
   "outputs": [],
   "source": [
    "demogra['age'].fillna(demogra['age'].mean(), inplace=True)"
   ]
  },
  {
   "cell_type": "code",
   "execution_count": 102,
   "metadata": {
    "ExecuteTime": {
     "end_time": "2018-09-21T08:08:31.229325Z",
     "start_time": "2018-09-21T08:08:30.772706Z"
    }
   },
   "outputs": [
    {
     "data": {
      "text/html": [
       "<div>\n",
       "<style scoped>\n",
       "    .dataframe tbody tr th:only-of-type {\n",
       "        vertical-align: middle;\n",
       "    }\n",
       "\n",
       "    .dataframe tbody tr th {\n",
       "        vertical-align: top;\n",
       "    }\n",
       "\n",
       "    .dataframe thead th {\n",
       "        text-align: right;\n",
       "    }\n",
       "</style>\n",
       "<table border=\"1\" class=\"dataframe\">\n",
       "  <thead>\n",
       "    <tr style=\"text-align: right;\">\n",
       "      <th></th>\n",
       "      <th>age</th>\n",
       "      <th>income</th>\n",
       "      <th>female</th>\n",
       "      <th>male</th>\n",
       "      <th>not_married</th>\n",
       "      <th>married</th>\n",
       "      <th>no</th>\n",
       "      <th>yes</th>\n",
       "    </tr>\n",
       "  </thead>\n",
       "  <tbody>\n",
       "    <tr>\n",
       "      <th>count</th>\n",
       "      <td>500000.000000</td>\n",
       "      <td>500000.000000</td>\n",
       "      <td>500000.000000</td>\n",
       "      <td>500000.000000</td>\n",
       "      <td>500000.000000</td>\n",
       "      <td>500000.000000</td>\n",
       "      <td>500000.000000</td>\n",
       "      <td>500000.000000</td>\n",
       "    </tr>\n",
       "    <tr>\n",
       "      <th>mean</th>\n",
       "      <td>45.500342</td>\n",
       "      <td>537.125630</td>\n",
       "      <td>0.523286</td>\n",
       "      <td>0.347296</td>\n",
       "      <td>0.278604</td>\n",
       "      <td>0.471654</td>\n",
       "      <td>0.357506</td>\n",
       "      <td>0.191676</td>\n",
       "    </tr>\n",
       "    <tr>\n",
       "      <th>std</th>\n",
       "      <td>9.377507</td>\n",
       "      <td>75.535335</td>\n",
       "      <td>0.499458</td>\n",
       "      <td>0.476111</td>\n",
       "      <td>0.448313</td>\n",
       "      <td>0.499196</td>\n",
       "      <td>0.479266</td>\n",
       "      <td>0.393620</td>\n",
       "    </tr>\n",
       "    <tr>\n",
       "      <th>min</th>\n",
       "      <td>15.000000</td>\n",
       "      <td>39.000000</td>\n",
       "      <td>0.000000</td>\n",
       "      <td>0.000000</td>\n",
       "      <td>0.000000</td>\n",
       "      <td>0.000000</td>\n",
       "      <td>0.000000</td>\n",
       "      <td>0.000000</td>\n",
       "    </tr>\n",
       "    <tr>\n",
       "      <th>25%</th>\n",
       "      <td>40.000000</td>\n",
       "      <td>526.000000</td>\n",
       "      <td>0.000000</td>\n",
       "      <td>0.000000</td>\n",
       "      <td>0.000000</td>\n",
       "      <td>0.000000</td>\n",
       "      <td>0.000000</td>\n",
       "      <td>0.000000</td>\n",
       "    </tr>\n",
       "    <tr>\n",
       "      <th>50%</th>\n",
       "      <td>45.500342</td>\n",
       "      <td>537.125630</td>\n",
       "      <td>1.000000</td>\n",
       "      <td>0.000000</td>\n",
       "      <td>0.000000</td>\n",
       "      <td>0.000000</td>\n",
       "      <td>0.000000</td>\n",
       "      <td>0.000000</td>\n",
       "    </tr>\n",
       "    <tr>\n",
       "      <th>75%</th>\n",
       "      <td>51.000000</td>\n",
       "      <td>545.000000</td>\n",
       "      <td>1.000000</td>\n",
       "      <td>1.000000</td>\n",
       "      <td>1.000000</td>\n",
       "      <td>1.000000</td>\n",
       "      <td>1.000000</td>\n",
       "      <td>0.000000</td>\n",
       "    </tr>\n",
       "    <tr>\n",
       "      <th>max</th>\n",
       "      <td>79.000000</td>\n",
       "      <td>704.000000</td>\n",
       "      <td>1.000000</td>\n",
       "      <td>1.000000</td>\n",
       "      <td>1.000000</td>\n",
       "      <td>1.000000</td>\n",
       "      <td>1.000000</td>\n",
       "      <td>1.000000</td>\n",
       "    </tr>\n",
       "  </tbody>\n",
       "</table>\n",
       "</div>"
      ],
      "text/plain": [
       "                 age         income         female           male  \\\n",
       "count  500000.000000  500000.000000  500000.000000  500000.000000   \n",
       "mean       45.500342     537.125630       0.523286       0.347296   \n",
       "std         9.377507      75.535335       0.499458       0.476111   \n",
       "min        15.000000      39.000000       0.000000       0.000000   \n",
       "25%        40.000000     526.000000       0.000000       0.000000   \n",
       "50%        45.500342     537.125630       1.000000       0.000000   \n",
       "75%        51.000000     545.000000       1.000000       1.000000   \n",
       "max        79.000000     704.000000       1.000000       1.000000   \n",
       "\n",
       "         not_married        married             no            yes  \n",
       "count  500000.000000  500000.000000  500000.000000  500000.000000  \n",
       "mean        0.278604       0.471654       0.357506       0.191676  \n",
       "std         0.448313       0.499196       0.479266       0.393620  \n",
       "min         0.000000       0.000000       0.000000       0.000000  \n",
       "25%         0.000000       0.000000       0.000000       0.000000  \n",
       "50%         0.000000       0.000000       0.000000       0.000000  \n",
       "75%         1.000000       1.000000       1.000000       0.000000  \n",
       "max         1.000000       1.000000       1.000000       1.000000  "
      ]
     },
     "execution_count": 102,
     "metadata": {},
     "output_type": "execute_result"
    }
   ],
   "source": [
    "demogra.describe()"
   ]
  },
  {
   "cell_type": "code",
   "execution_count": 104,
   "metadata": {
    "ExecuteTime": {
     "end_time": "2018-09-21T08:11:54.648204Z",
     "start_time": "2018-09-21T08:11:50.712119Z"
    }
   },
   "outputs": [],
   "source": [
    "demogra.to_csv(\"../../data/demogra_cleaned.csv\")"
   ]
  },
  {
   "cell_type": "code",
   "execution_count": null,
   "metadata": {},
   "outputs": [],
   "source": []
  },
  {
   "cell_type": "code",
   "execution_count": null,
   "metadata": {},
   "outputs": [],
   "source": []
  },
  {
   "cell_type": "code",
   "execution_count": null,
   "metadata": {},
   "outputs": [],
   "source": []
  },
  {
   "cell_type": "markdown",
   "metadata": {},
   "source": [
    "## merge"
   ]
  },
  {
   "cell_type": "markdown",
   "metadata": {},
   "source": [
    "・ToDo:\n",
    "\n",
    "①前処理後のdf_trainとdemograをdeviceIdをキーにしてmerge。\n",
    "\n",
    "②標準化する。"
   ]
  },
  {
   "cell_type": "code",
   "execution_count": null,
   "metadata": {},
   "outputs": [],
   "source": []
  }
 ],
 "metadata": {
  "kernelspec": {
   "display_name": "Python 3",
   "language": "python",
   "name": "python3"
  },
  "language_info": {
   "codemirror_mode": {
    "name": "ipython",
    "version": 3
   },
   "file_extension": ".py",
   "mimetype": "text/x-python",
   "name": "python",
   "nbconvert_exporter": "python",
   "pygments_lexer": "ipython3",
   "version": "3.6.6"
  },
  "toc": {
   "base_numbering": 1,
   "nav_menu": {},
   "number_sections": true,
   "sideBar": true,
   "skip_h1_title": false,
   "title_cell": "Table of Contents",
   "title_sidebar": "Contents",
   "toc_cell": false,
   "toc_position": {},
   "toc_section_display": true,
   "toc_window_display": true
  }
 },
 "nbformat": 4,
 "nbformat_minor": 2
}
