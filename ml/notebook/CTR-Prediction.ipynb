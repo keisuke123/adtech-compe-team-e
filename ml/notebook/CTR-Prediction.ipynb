{
 "cells": [
  {
   "cell_type": "code",
   "execution_count": 1,
   "metadata": {},
   "outputs": [],
   "source": [
    "import pandas as pd\n",
    "import numpy as np\n",
    "import matplotlib.pyplot as plt\n",
    "%matplotlib inline\n",
    "import seaborn as sns\n",
    "\n",
    "import os\n",
    "import time\n",
    "import glob"
   ]
  },
  {
   "cell_type": "code",
   "execution_count": 2,
   "metadata": {},
   "outputs": [],
   "source": [
    "pd.set_option(\"display.max_columns\",None)\n",
    "pd.set_option(\"display.max_rows\",200)"
   ]
  },
  {
   "cell_type": "code",
   "execution_count": 3,
   "metadata": {},
   "outputs": [
    {
     "data": {
      "text/plain": [
       "'/Users/fuma/Desktop/アドテクコンペ/notebook'"
      ]
     },
     "execution_count": 3,
     "metadata": {},
     "output_type": "execute_result"
    }
   ],
   "source": [
    "os.getcwd()"
   ]
  },
  {
   "cell_type": "code",
   "execution_count": 4,
   "metadata": {},
   "outputs": [],
   "source": [
    "file_path = glob.glob(\"../data/*\")\n",
    "csv_path = glob.glob(\"../data/*.csv\")"
   ]
  },
  {
   "cell_type": "code",
   "execution_count": 5,
   "metadata": {},
   "outputs": [
    {
     "data": {
      "text/plain": [
       "['../data/banner_size_master.csv',\n",
       " '../data/demogra.csv',\n",
       " '../data/train.csv',\n",
       " '../data/cpc_budget.json',\n",
       " '../data/banner_position_master.csv',\n",
       " '../data/device_type_master.csv']"
      ]
     },
     "execution_count": 5,
     "metadata": {},
     "output_type": "execute_result"
    }
   ],
   "source": [
    "file_path"
   ]
  },
  {
   "cell_type": "code",
   "execution_count": 6,
   "metadata": {},
   "outputs": [
    {
     "data": {
      "text/plain": [
       "['../data/banner_size_master.csv',\n",
       " '../data/demogra.csv',\n",
       " '../data/train.csv',\n",
       " '../data/banner_position_master.csv',\n",
       " '../data/device_type_master.csv']"
      ]
     },
     "execution_count": 6,
     "metadata": {},
     "output_type": "execute_result"
    }
   ],
   "source": [
    "csv_path"
   ]
  },
  {
   "cell_type": "markdown",
   "metadata": {},
   "source": [
    "# read data "
   ]
  },
  {
   "cell_type": "code",
   "execution_count": 7,
   "metadata": {},
   "outputs": [],
   "source": [
    "banner_size_master = pd.read_csv(csv_path[0])\n",
    "demogra = pd.read_csv(csv_path[1])\n",
    "df_train = pd.read_csv(csv_path[2])\n",
    "banner_position_master = pd.read_csv(csv_path[3])\n",
    "device_type_master = pd.read_csv(csv_path[4])"
   ]
  },
  {
   "cell_type": "code",
   "execution_count": 8,
   "metadata": {},
   "outputs": [
    {
     "data": {
      "text/html": [
       "<div>\n",
       "<style scoped>\n",
       "    .dataframe tbody tr th:only-of-type {\n",
       "        vertical-align: middle;\n",
       "    }\n",
       "\n",
       "    .dataframe tbody tr th {\n",
       "        vertical-align: top;\n",
       "    }\n",
       "\n",
       "    .dataframe thead th {\n",
       "        text-align: right;\n",
       "    }\n",
       "</style>\n",
       "<table border=\"1\" class=\"dataframe\">\n",
       "  <thead>\n",
       "    <tr style=\"text-align: right;\">\n",
       "      <th></th>\n",
       "      <th>id</th>\n",
       "      <th>bannerSize</th>\n",
       "    </tr>\n",
       "  </thead>\n",
       "  <tbody>\n",
       "    <tr>\n",
       "      <th>0</th>\n",
       "      <td>1</td>\n",
       "      <td>320×50</td>\n",
       "    </tr>\n",
       "    <tr>\n",
       "      <th>1</th>\n",
       "      <td>2</td>\n",
       "      <td>320×100</td>\n",
       "    </tr>\n",
       "    <tr>\n",
       "      <th>2</th>\n",
       "      <td>3</td>\n",
       "      <td>300×250</td>\n",
       "    </tr>\n",
       "    <tr>\n",
       "      <th>3</th>\n",
       "      <td>4</td>\n",
       "      <td>320×480</td>\n",
       "    </tr>\n",
       "  </tbody>\n",
       "</table>\n",
       "</div>"
      ],
      "text/plain": [
       "   id bannerSize\n",
       "0   1     320×50\n",
       "1   2    320×100\n",
       "2   3    300×250\n",
       "3   4    320×480"
      ]
     },
     "execution_count": 8,
     "metadata": {},
     "output_type": "execute_result"
    }
   ],
   "source": [
    "banner_size_master"
   ]
  },
  {
   "cell_type": "code",
   "execution_count": 9,
   "metadata": {},
   "outputs": [
    {
     "data": {
      "text/html": [
       "<div>\n",
       "<style scoped>\n",
       "    .dataframe tbody tr th:only-of-type {\n",
       "        vertical-align: middle;\n",
       "    }\n",
       "\n",
       "    .dataframe tbody tr th {\n",
       "        vertical-align: top;\n",
       "    }\n",
       "\n",
       "    .dataframe thead th {\n",
       "        text-align: right;\n",
       "    }\n",
       "</style>\n",
       "<table border=\"1\" class=\"dataframe\">\n",
       "  <thead>\n",
       "    <tr style=\"text-align: right;\">\n",
       "      <th></th>\n",
       "      <th>deviceId</th>\n",
       "      <th>age</th>\n",
       "      <th>gender</th>\n",
       "      <th>hasChild</th>\n",
       "      <th>income</th>\n",
       "      <th>isMarried</th>\n",
       "    </tr>\n",
       "  </thead>\n",
       "  <tbody>\n",
       "    <tr>\n",
       "      <th>0</th>\n",
       "      <td>cc6f3c56-f35f-4de5-b6a0-6cf8f5fd44c2</td>\n",
       "      <td>36.0</td>\n",
       "      <td>female</td>\n",
       "      <td>yes</td>\n",
       "      <td>458.0</td>\n",
       "      <td>yes</td>\n",
       "    </tr>\n",
       "    <tr>\n",
       "      <th>1</th>\n",
       "      <td>57525600-3f29-4ff9-b236-ea32fc43d78c</td>\n",
       "      <td>52.0</td>\n",
       "      <td>female</td>\n",
       "      <td>no</td>\n",
       "      <td>678.0</td>\n",
       "      <td>no</td>\n",
       "    </tr>\n",
       "    <tr>\n",
       "      <th>2</th>\n",
       "      <td>18221f19-865b-4923-a5a9-ea13239d3aad</td>\n",
       "      <td>40.0</td>\n",
       "      <td>female</td>\n",
       "      <td>no</td>\n",
       "      <td>NaN</td>\n",
       "      <td>NaN</td>\n",
       "    </tr>\n",
       "    <tr>\n",
       "      <th>3</th>\n",
       "      <td>68a69f8a-a3d6-467a-832a-04f626737a81</td>\n",
       "      <td>42.0</td>\n",
       "      <td>UNKNOWN</td>\n",
       "      <td>NaN</td>\n",
       "      <td>536.0</td>\n",
       "      <td>yes</td>\n",
       "    </tr>\n",
       "    <tr>\n",
       "      <th>4</th>\n",
       "      <td>8b0cde1a-b024-43cf-a218-40b7abab7bde</td>\n",
       "      <td>38.0</td>\n",
       "      <td>female</td>\n",
       "      <td>NaN</td>\n",
       "      <td>NaN</td>\n",
       "      <td>NaN</td>\n",
       "    </tr>\n",
       "  </tbody>\n",
       "</table>\n",
       "</div>"
      ],
      "text/plain": [
       "                               deviceId   age   gender hasChild  income  \\\n",
       "0  cc6f3c56-f35f-4de5-b6a0-6cf8f5fd44c2  36.0   female      yes   458.0   \n",
       "1  57525600-3f29-4ff9-b236-ea32fc43d78c  52.0   female       no   678.0   \n",
       "2  18221f19-865b-4923-a5a9-ea13239d3aad  40.0   female       no     NaN   \n",
       "3  68a69f8a-a3d6-467a-832a-04f626737a81  42.0  UNKNOWN      NaN   536.0   \n",
       "4  8b0cde1a-b024-43cf-a218-40b7abab7bde  38.0   female      NaN     NaN   \n",
       "\n",
       "  isMarried  \n",
       "0       yes  \n",
       "1        no  \n",
       "2       NaN  \n",
       "3       yes  \n",
       "4       NaN  "
      ]
     },
     "execution_count": 9,
     "metadata": {},
     "output_type": "execute_result"
    }
   ],
   "source": [
    "demogra.head()"
   ]
  },
  {
   "cell_type": "code",
   "execution_count": 10,
   "metadata": {},
   "outputs": [
    {
     "data": {
      "text/html": [
       "<div>\n",
       "<style scoped>\n",
       "    .dataframe tbody tr th:only-of-type {\n",
       "        vertical-align: middle;\n",
       "    }\n",
       "\n",
       "    .dataframe tbody tr th {\n",
       "        vertical-align: top;\n",
       "    }\n",
       "\n",
       "    .dataframe thead th {\n",
       "        text-align: right;\n",
       "    }\n",
       "</style>\n",
       "<table border=\"1\" class=\"dataframe\">\n",
       "  <thead>\n",
       "    <tr style=\"text-align: right;\">\n",
       "      <th></th>\n",
       "      <th>deviceId</th>\n",
       "      <th>bannerPosition</th>\n",
       "      <th>bannerSize</th>\n",
       "      <th>deviceType</th>\n",
       "      <th>floorPrice</th>\n",
       "      <th>id</th>\n",
       "      <th>mediaId</th>\n",
       "      <th>osType</th>\n",
       "      <th>timestamp</th>\n",
       "      <th>advId</th>\n",
       "      <th>isClick</th>\n",
       "    </tr>\n",
       "  </thead>\n",
       "  <tbody>\n",
       "    <tr>\n",
       "      <th>0</th>\n",
       "      <td>cc6f3c56-f35f-4de5-b6a0-6cf8f5fd44c2</td>\n",
       "      <td>6</td>\n",
       "      <td>4</td>\n",
       "      <td>1</td>\n",
       "      <td>19392.00</td>\n",
       "      <td>8abefa99-20b6-45ea-8e5b-c74081fb1fb1</td>\n",
       "      <td>608</td>\n",
       "      <td>iOS</td>\n",
       "      <td>1535203765</td>\n",
       "      <td>11</td>\n",
       "      <td>0</td>\n",
       "    </tr>\n",
       "    <tr>\n",
       "      <th>1</th>\n",
       "      <td>57525600-3f29-4ff9-b236-ea32fc43d78c</td>\n",
       "      <td>5</td>\n",
       "      <td>1</td>\n",
       "      <td>1</td>\n",
       "      <td>6758.20</td>\n",
       "      <td>f1e449fd-16c7-48a0-87ce-ce7f6cb1bf58</td>\n",
       "      <td>176</td>\n",
       "      <td>iOS</td>\n",
       "      <td>1535135105</td>\n",
       "      <td>6</td>\n",
       "      <td>1</td>\n",
       "    </tr>\n",
       "    <tr>\n",
       "      <th>2</th>\n",
       "      <td>18221f19-865b-4923-a5a9-ea13239d3aad</td>\n",
       "      <td>5</td>\n",
       "      <td>1</td>\n",
       "      <td>1</td>\n",
       "      <td>8816.15</td>\n",
       "      <td>cbe73705-bb9d-453c-b191-e1e243347beb</td>\n",
       "      <td>281</td>\n",
       "      <td>iOS</td>\n",
       "      <td>1534845969</td>\n",
       "      <td>1</td>\n",
       "      <td>0</td>\n",
       "    </tr>\n",
       "    <tr>\n",
       "      <th>3</th>\n",
       "      <td>68a69f8a-a3d6-467a-832a-04f626737a81</td>\n",
       "      <td>5</td>\n",
       "      <td>3</td>\n",
       "      <td>1</td>\n",
       "      <td>9572.60</td>\n",
       "      <td>e770ef71-54a3-40be-8361-65a6128dac0e</td>\n",
       "      <td>22</td>\n",
       "      <td>ANDROID</td>\n",
       "      <td>1534931092</td>\n",
       "      <td>2</td>\n",
       "      <td>1</td>\n",
       "    </tr>\n",
       "    <tr>\n",
       "      <th>4</th>\n",
       "      <td>8b0cde1a-b024-43cf-a218-40b7abab7bde</td>\n",
       "      <td>1</td>\n",
       "      <td>1</td>\n",
       "      <td>1</td>\n",
       "      <td>9793.30</td>\n",
       "      <td>923f1982-947c-4e81-9d43-b31d20c4579f</td>\n",
       "      <td>869</td>\n",
       "      <td>iOS</td>\n",
       "      <td>1535129929</td>\n",
       "      <td>15</td>\n",
       "      <td>0</td>\n",
       "    </tr>\n",
       "  </tbody>\n",
       "</table>\n",
       "</div>"
      ],
      "text/plain": [
       "                               deviceId  bannerPosition  bannerSize  \\\n",
       "0  cc6f3c56-f35f-4de5-b6a0-6cf8f5fd44c2               6           4   \n",
       "1  57525600-3f29-4ff9-b236-ea32fc43d78c               5           1   \n",
       "2  18221f19-865b-4923-a5a9-ea13239d3aad               5           1   \n",
       "3  68a69f8a-a3d6-467a-832a-04f626737a81               5           3   \n",
       "4  8b0cde1a-b024-43cf-a218-40b7abab7bde               1           1   \n",
       "\n",
       "   deviceType  floorPrice                                    id  mediaId  \\\n",
       "0           1    19392.00  8abefa99-20b6-45ea-8e5b-c74081fb1fb1      608   \n",
       "1           1     6758.20  f1e449fd-16c7-48a0-87ce-ce7f6cb1bf58      176   \n",
       "2           1     8816.15  cbe73705-bb9d-453c-b191-e1e243347beb      281   \n",
       "3           1     9572.60  e770ef71-54a3-40be-8361-65a6128dac0e       22   \n",
       "4           1     9793.30  923f1982-947c-4e81-9d43-b31d20c4579f      869   \n",
       "\n",
       "    osType   timestamp  advId  isClick  \n",
       "0      iOS  1535203765     11        0  \n",
       "1      iOS  1535135105      6        1  \n",
       "2      iOS  1534845969      1        0  \n",
       "3  ANDROID  1534931092      2        1  \n",
       "4      iOS  1535129929     15        0  "
      ]
     },
     "execution_count": 10,
     "metadata": {},
     "output_type": "execute_result"
    }
   ],
   "source": [
    "df_train.head()"
   ]
  },
  {
   "cell_type": "code",
   "execution_count": 11,
   "metadata": {},
   "outputs": [
    {
     "data": {
      "text/html": [
       "<div>\n",
       "<style scoped>\n",
       "    .dataframe tbody tr th:only-of-type {\n",
       "        vertical-align: middle;\n",
       "    }\n",
       "\n",
       "    .dataframe tbody tr th {\n",
       "        vertical-align: top;\n",
       "    }\n",
       "\n",
       "    .dataframe thead th {\n",
       "        text-align: right;\n",
       "    }\n",
       "</style>\n",
       "<table border=\"1\" class=\"dataframe\">\n",
       "  <thead>\n",
       "    <tr style=\"text-align: right;\">\n",
       "      <th></th>\n",
       "      <th>id</th>\n",
       "      <th>bannerPosition</th>\n",
       "    </tr>\n",
       "  </thead>\n",
       "  <tbody>\n",
       "    <tr>\n",
       "      <th>0</th>\n",
       "      <td>1</td>\n",
       "      <td>Above the Fold</td>\n",
       "    </tr>\n",
       "    <tr>\n",
       "      <th>1</th>\n",
       "      <td>2</td>\n",
       "      <td>Below the Fold</td>\n",
       "    </tr>\n",
       "    <tr>\n",
       "      <th>2</th>\n",
       "      <td>3</td>\n",
       "      <td>Header</td>\n",
       "    </tr>\n",
       "    <tr>\n",
       "      <th>3</th>\n",
       "      <td>4</td>\n",
       "      <td>Footer</td>\n",
       "    </tr>\n",
       "    <tr>\n",
       "      <th>4</th>\n",
       "      <td>5</td>\n",
       "      <td>Sidebar</td>\n",
       "    </tr>\n",
       "    <tr>\n",
       "      <th>5</th>\n",
       "      <td>6</td>\n",
       "      <td>Full Screen</td>\n",
       "    </tr>\n",
       "  </tbody>\n",
       "</table>\n",
       "</div>"
      ],
      "text/plain": [
       "   id  bannerPosition\n",
       "0   1  Above the Fold\n",
       "1   2  Below the Fold\n",
       "2   3          Header\n",
       "3   4          Footer\n",
       "4   5         Sidebar\n",
       "5   6     Full Screen"
      ]
     },
     "execution_count": 11,
     "metadata": {},
     "output_type": "execute_result"
    }
   ],
   "source": [
    "banner_position_master"
   ]
  },
  {
   "cell_type": "code",
   "execution_count": 12,
   "metadata": {},
   "outputs": [
    {
     "data": {
      "text/html": [
       "<div>\n",
       "<style scoped>\n",
       "    .dataframe tbody tr th:only-of-type {\n",
       "        vertical-align: middle;\n",
       "    }\n",
       "\n",
       "    .dataframe tbody tr th {\n",
       "        vertical-align: top;\n",
       "    }\n",
       "\n",
       "    .dataframe thead th {\n",
       "        text-align: right;\n",
       "    }\n",
       "</style>\n",
       "<table border=\"1\" class=\"dataframe\">\n",
       "  <thead>\n",
       "    <tr style=\"text-align: right;\">\n",
       "      <th></th>\n",
       "      <th>id</th>\n",
       "      <th>deviceType</th>\n",
       "    </tr>\n",
       "  </thead>\n",
       "  <tbody>\n",
       "    <tr>\n",
       "      <th>0</th>\n",
       "      <td>1</td>\n",
       "      <td>Mobile</td>\n",
       "    </tr>\n",
       "    <tr>\n",
       "      <th>1</th>\n",
       "      <td>2</td>\n",
       "      <td>PC</td>\n",
       "    </tr>\n",
       "    <tr>\n",
       "      <th>2</th>\n",
       "      <td>3</td>\n",
       "      <td>Tablet</td>\n",
       "    </tr>\n",
       "  </tbody>\n",
       "</table>\n",
       "</div>"
      ],
      "text/plain": [
       "   id deviceType\n",
       "0   1     Mobile\n",
       "1   2         PC\n",
       "2   3     Tablet"
      ]
     },
     "execution_count": 12,
     "metadata": {},
     "output_type": "execute_result"
    }
   ],
   "source": [
    "device_type_master"
   ]
  },
  {
   "cell_type": "markdown",
   "metadata": {},
   "source": [
    "# check dtypes etc. "
   ]
  },
  {
   "cell_type": "code",
   "execution_count": 15,
   "metadata": {
    "scrolled": true
   },
   "outputs": [
    {
     "name": "stdout",
     "output_type": "stream",
     "text": [
      "------- demogra --------\n",
      "\n",
      "data type:\n",
      " deviceId      object\n",
      "age          float64\n",
      "gender        object\n",
      "hasChild      object\n",
      "income       float64\n",
      "isMarried     object\n",
      "dtype: object\n",
      "\n",
      "number of null:\n",
      " deviceId          0\n",
      "age           59935\n",
      "gender            0\n",
      "hasChild     225409\n",
      "income       174807\n",
      "isMarried    124871\n",
      "dtype: int64\n",
      "\n",
      "data length:\n",
      " 500000\n",
      "\n",
      "u_unique:\n",
      " deviceId     500000\n",
      "age              65\n",
      "gender            3\n",
      "hasChild          2\n",
      "income          419\n",
      "isMarried         2\n",
      "dtype: int64\n"
     ]
    }
   ],
   "source": [
    "print(\"------- demogra --------\")\n",
    "print(\"\")  \n",
    "print(\"data type:\\n\",demogra.dtypes)\n",
    "print(\"\")\n",
    "print(\"number of null:\\n\",demogra.isnull().sum())\n",
    "print(\"\")\n",
    "print(\"data length:\\n\",len(demogra))\n",
    "print(\"\")\n",
    "print(\"u_unique:\\n\",demogra.nunique())"
   ]
  },
  {
   "cell_type": "code",
   "execution_count": 16,
   "metadata": {
    "scrolled": true
   },
   "outputs": [
    {
     "name": "stdout",
     "output_type": "stream",
     "text": [
      "------- df_train --------\n",
      "\n",
      "data type:\n",
      " deviceId           object\n",
      "bannerPosition      int64\n",
      "bannerSize          int64\n",
      "deviceType          int64\n",
      "floorPrice        float64\n",
      "id                 object\n",
      "mediaId             int64\n",
      "osType             object\n",
      "timestamp           int64\n",
      "advId               int64\n",
      "isClick             int64\n",
      "dtype: object\n",
      "\n",
      "number of null:\n",
      " deviceId          0\n",
      "bannerPosition    0\n",
      "bannerSize        0\n",
      "deviceType        0\n",
      "floorPrice        0\n",
      "id                0\n",
      "mediaId           0\n",
      "osType            0\n",
      "timestamp         0\n",
      "advId             0\n",
      "isClick           0\n",
      "dtype: int64\n",
      "\n",
      "data length:\n",
      " 10000000\n",
      "\n",
      "u_unique:\n",
      " deviceId            500000\n",
      "bannerPosition           6\n",
      "bannerSize               4\n",
      "deviceType               1\n",
      "floorPrice          386585\n",
      "id                10000000\n",
      "mediaId               1000\n",
      "osType                   2\n",
      "timestamp           604800\n",
      "advId                   20\n",
      "isClick                  2\n",
      "dtype: int64\n"
     ]
    }
   ],
   "source": [
    "print(\"------- df_train --------\")\n",
    "print(\"\")  \n",
    "print(\"data type:\\n\",df_train.dtypes)\n",
    "print(\"\")\n",
    "print(\"number of null:\\n\",df_train.isnull().sum())\n",
    "print(\"\")\n",
    "print(\"data length:\\n\",len(df_train))\n",
    "print(\"\")\n",
    "print(\"u_unique:\\n\",df_train.nunique())"
   ]
  },
  {
   "cell_type": "markdown",
   "metadata": {},
   "source": [
    "# target "
   ]
  },
  {
   "cell_type": "code",
   "execution_count": 17,
   "metadata": {},
   "outputs": [
    {
     "data": {
      "text/plain": [
       "(array([7546596.,       0.,       0.,       0.,       0.,       0.,\n",
       "              0.,       0.,       0., 2453404.]),\n",
       " array([0. , 0.1, 0.2, 0.3, 0.4, 0.5, 0.6, 0.7, 0.8, 0.9, 1. ]),\n",
       " <a list of 10 Patch objects>)"
      ]
     },
     "execution_count": 17,
     "metadata": {},
     "output_type": "execute_result"
    },
    {
     "data": {
      "image/png": "[encoded data removed]",
      "text/plain": [
       "<Figure size 432x288 with 1 Axes>"
      ]
     },
     "metadata": {},
     "output_type": "display_data"
    }
   ],
   "source": [
    "plt.style.use('dark_background')\n",
    "plt.hist(df_train[\"isClick\"])"
   ]
  },
  {
   "cell_type": "code",
   "execution_count": 18,
   "metadata": {},
   "outputs": [
    {
     "name": "stdout",
     "output_type": "stream",
     "text": [
      "非クリック・クリック比: 0.3251007474098256\n"
     ]
    }
   ],
   "source": [
    "print(\"非クリック・クリック比:\",len(df_train[df_train[\"isClick\"]==1])/len(df_train[df_train[\"isClick\"]==0]))"
   ]
  },
  {
   "cell_type": "markdown",
   "metadata": {},
   "source": [
    "アンダーサンプリング・オーバーサンプリング等はいらなそう！ "
   ]
  },
  {
   "cell_type": "markdown",
   "metadata": {},
   "source": [
    "# test model "
   ]
  },
  {
   "cell_type": "markdown",
   "metadata": {},
   "source": [
    "サーバーサイドとの検証用にとりあえずめっちゃ雑なモデルを作っておく "
   ]
  },
  {
   "cell_type": "code",
   "execution_count": 19,
   "metadata": {},
   "outputs": [],
   "source": [
    "# objectをlabel-encode\n",
    "from sklearn.preprocessing import LabelEncoder\n",
    "\n",
    "list_target = list(df_train.drop([\"bannerPosition\",\"bannerSize\",\"deviceType\",\n",
    "                                  \"floorPrice\",\"mediaId\",\"timestamp\",\"advId\",\n",
    "                                  \"isClick\"],axis=1).columns)\n",
    "for target in list_target:\n",
    "    le = LabelEncoder()\n",
    "    le.fit(df_train[target])\n",
    "    df_train[target] = le.transform(df_train[target])"
   ]
  },
  {
   "cell_type": "code",
   "execution_count": 20,
   "metadata": {},
   "outputs": [
    {
     "data": {
      "text/html": [
       "<div>\n",
       "<style scoped>\n",
       "    .dataframe tbody tr th:only-of-type {\n",
       "        vertical-align: middle;\n",
       "    }\n",
       "\n",
       "    .dataframe tbody tr th {\n",
       "        vertical-align: top;\n",
       "    }\n",
       "\n",
       "    .dataframe thead th {\n",
       "        text-align: right;\n",
       "    }\n",
       "</style>\n",
       "<table border=\"1\" class=\"dataframe\">\n",
       "  <thead>\n",
       "    <tr style=\"text-align: right;\">\n",
       "      <th></th>\n",
       "      <th>deviceId</th>\n",
       "      <th>bannerPosition</th>\n",
       "      <th>bannerSize</th>\n",
       "      <th>deviceType</th>\n",
       "      <th>floorPrice</th>\n",
       "      <th>id</th>\n",
       "      <th>mediaId</th>\n",
       "      <th>osType</th>\n",
       "      <th>timestamp</th>\n",
       "      <th>advId</th>\n",
       "      <th>isClick</th>\n",
       "    </tr>\n",
       "  </thead>\n",
       "  <tbody>\n",
       "    <tr>\n",
       "      <th>0</th>\n",
       "      <td>399309</td>\n",
       "      <td>6</td>\n",
       "      <td>4</td>\n",
       "      <td>1</td>\n",
       "      <td>19392.00</td>\n",
       "      <td>5419432</td>\n",
       "      <td>608</td>\n",
       "      <td>1</td>\n",
       "      <td>1535203765</td>\n",
       "      <td>11</td>\n",
       "      <td>0</td>\n",
       "    </tr>\n",
       "    <tr>\n",
       "      <th>1</th>\n",
       "      <td>171090</td>\n",
       "      <td>5</td>\n",
       "      <td>1</td>\n",
       "      <td>1</td>\n",
       "      <td>6758.20</td>\n",
       "      <td>9450176</td>\n",
       "      <td>176</td>\n",
       "      <td>1</td>\n",
       "      <td>1535135105</td>\n",
       "      <td>6</td>\n",
       "      <td>1</td>\n",
       "    </tr>\n",
       "    <tr>\n",
       "      <th>2</th>\n",
       "      <td>47301</td>\n",
       "      <td>5</td>\n",
       "      <td>1</td>\n",
       "      <td>1</td>\n",
       "      <td>8816.15</td>\n",
       "      <td>7964823</td>\n",
       "      <td>281</td>\n",
       "      <td>1</td>\n",
       "      <td>1534845969</td>\n",
       "      <td>1</td>\n",
       "      <td>0</td>\n",
       "    </tr>\n",
       "    <tr>\n",
       "      <th>3</th>\n",
       "      <td>205113</td>\n",
       "      <td>5</td>\n",
       "      <td>3</td>\n",
       "      <td>1</td>\n",
       "      <td>9572.60</td>\n",
       "      <td>9041901</td>\n",
       "      <td>22</td>\n",
       "      <td>0</td>\n",
       "      <td>1534931092</td>\n",
       "      <td>2</td>\n",
       "      <td>1</td>\n",
       "    </tr>\n",
       "    <tr>\n",
       "      <th>4</th>\n",
       "      <td>272139</td>\n",
       "      <td>1</td>\n",
       "      <td>1</td>\n",
       "      <td>1</td>\n",
       "      <td>9793.30</td>\n",
       "      <td>5712829</td>\n",
       "      <td>869</td>\n",
       "      <td>1</td>\n",
       "      <td>1535129929</td>\n",
       "      <td>15</td>\n",
       "      <td>0</td>\n",
       "    </tr>\n",
       "  </tbody>\n",
       "</table>\n",
       "</div>"
      ],
      "text/plain": [
       "   deviceId  bannerPosition  bannerSize  deviceType  floorPrice       id  \\\n",
       "0    399309               6           4           1    19392.00  5419432   \n",
       "1    171090               5           1           1     6758.20  9450176   \n",
       "2     47301               5           1           1     8816.15  7964823   \n",
       "3    205113               5           3           1     9572.60  9041901   \n",
       "4    272139               1           1           1     9793.30  5712829   \n",
       "\n",
       "   mediaId  osType   timestamp  advId  isClick  \n",
       "0      608       1  1535203765     11        0  \n",
       "1      176       1  1535135105      6        1  \n",
       "2      281       1  1534845969      1        0  \n",
       "3       22       0  1534931092      2        1  \n",
       "4      869       1  1535129929     15        0  "
      ]
     },
     "execution_count": 20,
     "metadata": {},
     "output_type": "execute_result"
    }
   ],
   "source": [
    "df_train.head()"
   ]
  },
  {
   "cell_type": "code",
   "execution_count": 24,
   "metadata": {},
   "outputs": [],
   "source": [
    "X_train = df_train.drop([\"id\",\"isClick\"],axis=1).values\n",
    "y_train = df_train[\"isClick\"].values"
   ]
  },
  {
   "cell_type": "code",
   "execution_count": null,
   "metadata": {},
   "outputs": [],
   "source": [
    "# ランダムフォレスト\n",
    "t1 = time.time()\n",
    "\n",
    "from sklearn.ensemble import RandomForestClassifier\n",
    "rfc = RandomForestClassifier(random_state=0, n_estimators=10)\n",
    "rfc.fit(X_train, y_train)\n",
    "\n",
    "t2 = time.time()\n",
    "elapsed_time = t2-t1\n",
    "print(f\"経過時間：{elapsed_time}\")"
   ]
  },
  {
   "cell_type": "code",
   "execution_count": 23,
   "metadata": {},
   "outputs": [
    {
     "name": "stdout",
     "output_type": "stream",
     "text": [
      "train acc: 1.000\n"
     ]
    }
   ],
   "source": [
    "# 訓練精度\n",
    "print('train acc: %.3f' % rfc.score(X_train, y_train))"
   ]
  },
  {
   "cell_type": "code",
   "execution_count": null,
   "metadata": {},
   "outputs": [],
   "source": [
    "# confusion matrix\n",
    "from sklearn.metrics import confusion_matrix\n",
    "cm = confusion_matrix(y_train, rfc.predict(X_train))"
   ]
  },
  {
   "cell_type": "code",
   "execution_count": null,
   "metadata": {},
   "outputs": [],
   "source": [
    "def plot_cm(confmat):\n",
    "    fig, ax = plt.subplots(figsize=(5, 5))\n",
    "    ax.matshow(confmat, cmap=plt.cm.RdYlGn, alpha=10)\n",
    "    for i in range(confmat.shape[0]):\n",
    "        for j in range(confmat.shape[1]):\n",
    "            ax.text(x=j, y=i, s=confmat[i, j], va='center', ha='center')\n",
    "    plt.title('predicted label')\n",
    "    plt.ylabel('true label')\n",
    "    plt.tight_layout() \n",
    "    plt.show()"
   ]
  },
  {
   "cell_type": "code",
   "execution_count": null,
   "metadata": {},
   "outputs": [],
   "source": [
    "plot_cm(cm)"
   ]
  },
  {
   "cell_type": "markdown",
   "metadata": {},
   "source": [
    "# preprocess "
   ]
  },
  {
   "cell_type": "markdown",
   "metadata": {},
   "source": [
    "・ToDo:\n",
    "\n",
    "①\"deviceId\"と\"demogra\"の紐付け\n",
    "\n",
    "②"
   ]
  }
 ],
 "metadata": {
  "kernelspec": {
   "display_name": "Python 3",
   "language": "python",
   "name": "python3"
  },
  "language_info": {
   "codemirror_mode": {
    "name": "ipython",
    "version": 3
   },
   "file_extension": ".py",
   "mimetype": "text/x-python",
   "name": "python",
   "nbconvert_exporter": "python",
   "pygments_lexer": "ipython3",
   "version": "3.6.5"
  },
  "toc": {
   "base_numbering": 1,
   "nav_menu": {},
   "number_sections": true,
   "sideBar": true,
   "skip_h1_title": false,
   "title_cell": "Table of Contents",
   "title_sidebar": "Contents",
   "toc_cell": false,
   "toc_position": {},
   "toc_section_display": true,
   "toc_window_display": true
  }
 },
 "nbformat": 4,
 "nbformat_minor": 2
}
